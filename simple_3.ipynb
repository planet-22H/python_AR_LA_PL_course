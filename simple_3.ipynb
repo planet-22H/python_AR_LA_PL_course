{
  "nbformat": 4,
  "nbformat_minor": 0,
  "metadata": {
    "colab": {
      "name": "simple_3.ipynb",
      "provenance": []
    },
    "kernelspec": {
      "name": "python3",
      "display_name": "Python 3"
    },
    "language_info": {
      "name": "python"
    }
  },
  "cells": [
    {
      "cell_type": "code",
      "execution_count": null,
      "metadata": {
        "id": "9GGnJtaQ4fJq",
        "outputId": "cec51899-d959-4c25-b37e-abd156ab3ba0"
      },
      "outputs": [
        {
          "data": {
            "text/plain": [
              "{'咸阳市': ['兴平市', '泾阳县', '渭城区', '礼泉县', '秦都区'],\n",
              " '西安市': ['临潼区',\n",
              "  '新城区',\n",
              "  '未央区',\n",
              "  '灞桥区',\n",
              "  '碑林区',\n",
              "  '莲湖区',\n",
              "  '蓝田县',\n",
              "  '鄠邑区',\n",
              "  '长安区',\n",
              "  '雁塔区',\n",
              "  '高陵区']}"
            ]
          },
          "execution_count": 40,
          "metadata": {},
          "output_type": "execute_result"
        }
      ],
      "source": [
        "# 3.3 第三份 西安城市数及区域数统计\n",
        "data = pandas.read_json('./data/poi_8_education.json')\n",
        "d = data.groupby([\"city\",\"area\"])\n",
        "result = {}\n",
        "for k in d.groups.keys():\n",
        "    if k[0] not in result:\n",
        "        result[k[0]] = []\n",
        "    result[k[0]].append(k[1])\n",
        "result"
      ]
    }
  ]
}