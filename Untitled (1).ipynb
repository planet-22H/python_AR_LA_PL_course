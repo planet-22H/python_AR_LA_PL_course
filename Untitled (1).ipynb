{
 "cells": [
  {
   "cell_type": "code",
   "execution_count": 1,
   "id": "2c045602-bb47-477c-956e-3fefa7097593",
   "metadata": {},
   "outputs": [
    {
     "name": "stdout",
     "output_type": "stream",
     "text": [
      "Hello python!\n"
     ]
    }
   ],
   "source": [
    "print('Hello python!')"
   ]
  },
  {
   "cell_type": "code",
   "execution_count": 2,
   "id": "a95e4d29-03c7-45ae-8fa7-7b0545664ab2",
   "metadata": {},
   "outputs": [
    {
     "name": "stdout",
     "output_type": "stream",
     "text": [
      "aaaaaaaaaaaaaa  python!\n"
     ]
    }
   ],
   "source": [
    "print('aaaaaaaaaaaaaa  python!')"
   ]
  },
  {
   "cell_type": "code",
   "execution_count": 3,
   "id": "f1199552-12cd-4704-9c45-78b8a94ce33f",
   "metadata": {},
   "outputs": [
    {
     "name": "stdout",
     "output_type": "stream",
     "text": [
      "岁岁岁岁岁岁岁岁岁岁岁岁岁岁岁岁岁岁岁岁岁岁岁岁岁岁岁岁岁岁岁岁岁岁岁岁岁岁岁岁岁岁岁岁岁岁岁岁岁岁\n"
     ]
    }
   ],
   "source": [
    "print(\"岁\"*50)"
   ]
  },
  {
   "cell_type": "code",
   "execution_count": 4,
   "id": "e9bc35e9-297b-4129-b8e8-1993ada86833",
   "metadata": {},
   "outputs": [
    {
     "name": "stdout",
     "output_type": "stream",
     "text": [
      "嵩哥好帅我好爱！！！！！\n"
     ]
    }
   ],
   "source": [
    "print(\"嵩哥好帅我好爱！！！！！\")"
   ]
  },
  {
   "cell_type": "code",
   "execution_count": 5,
   "id": "5e1769a9-bde1-43fc-9474-1e894c268351",
   "metadata": {},
   "outputs": [
    {
     "name": "stdout",
     "output_type": "stream",
     "text": [
      "结果： 6\n"
     ]
    }
   ],
   "source": [
    "print(\"结果：\",3+3)"
   ]
  },
  {
   "cell_type": "code",
   "execution_count": 6,
   "id": "6a9317a8-54c9-4e1b-a050-f4f253ee255a",
   "metadata": {},
   "outputs": [
    {
     "name": "stdout",
     "output_type": "stream",
     "text": [
      "结果： 166665\n"
     ]
    }
   ],
   "source": [
    "print(\"结果：\",66666+99999)"
   ]
  },
  {
   "cell_type": "code",
   "execution_count": 7,
   "id": "dcb6fd79-2468-478e-94b6-a003a786aa1e",
   "metadata": {},
   "outputs": [
    {
     "name": "stdout",
     "output_type": "stream",
     "text": [
      "a： 9\n"
     ]
    }
   ],
   "source": [
    "print(\"a：\",3*3)"
   ]
  },
  {
   "cell_type": "code",
   "execution_count": 8,
   "id": "c34c6a63-d43e-4a3a-9a10-fce7d1d5a69f",
   "metadata": {},
   "outputs": [
    {
     "name": "stdout",
     "output_type": "stream",
     "text": [
      "整除吗： 449999\n"
     ]
    }
   ],
   "source": [
    "print(\"整除吗：\", 899999//2)"
   ]
  },
  {
   "cell_type": "code",
   "execution_count": 9,
   "id": "b4f6ca28-c162-4a1c-a1a8-6713caa3842c",
   "metadata": {},
   "outputs": [
    {
     "name": "stdout",
     "output_type": "stream",
     "text": [
      "余数： 1\n"
     ]
    }
   ],
   "source": [
    "print(\"余数：\", 19999%2)"
   ]
  },
  {
   "cell_type": "code",
   "execution_count": 10,
   "id": "e05d3975-adfc-4c32-b24b-6fa6b28de28d",
   "metadata": {},
   "outputs": [
    {
     "name": "stdout",
     "output_type": "stream",
     "text": [
      "幂： 59049\n"
     ]
    }
   ],
   "source": [
    "print(\"幂：\",9**5)"
   ]
  },
  {
   "cell_type": "code",
   "execution_count": 4,
   "id": "691ab3a5-de76-4fc1-8f40-76c058bcc0b6",
   "metadata": {},
   "outputs": [
    {
     "name": "stdout",
     "output_type": "stream",
     "text": [
      "monadic_equation= 115.0\n",
      "monadic_equation=115.00\n",
      "monadic_equation=115.000\n"
     ]
    }
   ],
   "source": [
    "x=57.0\n",
    "monadic_equation=2*x+1\n",
    "print(\"monadic_equation=\",monadic_equation)#一元方程\n",
    "print(\"monadic_equation=%.2f\"%monadic_equation) \n",
    "print(\"monadic_equation={:.3f}\".format(monadic_equation))"
   ]
  },
  {
   "cell_type": "code",
   "execution_count": 12,
   "id": "11d10015-cdb7-4cd0-8d4d-d9311d757264",
   "metadata": {},
   "outputs": [
    {
     "name": "stdout",
     "output_type": "stream",
     "text": [
      "monadic_equation= 17.0\n",
      "monadic_equation=17.00\n",
      "monadic_equation=17.00\n"
     ]
    }
   ],
   "source": [
    "x=8.0\n",
    "monadic_equation=2*x+1\n",
    "print(\"monadic_equation=\",monadic_equation)\n",
    "print(\"monadic_equation=%.2f\"%monadic_equation)\n",
    "print(\"monadic_equation={:.2f}\".format(monadic_equation))"
   ]
  },
  {
   "cell_type": "code",
   "execution_count": 13,
   "id": "a937eccc-8dac-4d1a-a04b-acb074eed64d",
   "metadata": {},
   "outputs": [
    {
     "name": "stdout",
     "output_type": "stream",
     "text": [
      "The longitude of the Xi'an coordinate is 108.942, and the latitude is 34.261013.\n"
     ]
    }
   ],
   "source": [
    "city_name=\"Xi'an\"\n",
    "coordinate_longitude=108.942292\n",
    "coordiante_latitude=34.261013\n",
    "print(\"The longitude of the Xi'an coordinate is {lon:.3f}, and the latitude is {lat}.\".format(lon=coordinate_longitude,lat=coordiante_latitude))#浮点"
   ]
  },
  {
   "cell_type": "code",
   "execution_count": 14,
   "id": "de7400d6-bfd9-4e65-abee-6ce8e0d69976",
   "metadata": {},
   "outputs": [
    {
     "name": "stdout",
     "output_type": "stream",
     "text": [
      "The longitude of the Xi'an coordinate is 108.9422926, and the latitude is 34.261.\n"
     ]
    }
   ],
   "source": [
    "city_name=\"Xi'an\"\n",
    "coordinate_longitude=108.942292555\n",
    "coordiante_latitude=34.261013\n",
    "print(\"The longitude of the Xi'an coordinate is {lon:.7f}, and the latitude is {lat:.3f}.\".format(lon=coordinate_longitude,lat=coordiante_latitude))"
   ]
  },
  {
   "cell_type": "code",
   "execution_count": 15,
   "id": "e9af65d6-b5c3-4f14-8704-a47e16ff5f3a",
   "metadata": {},
   "outputs": [
    {
     "name": "stdout",
     "output_type": "stream",
     "text": [
      "func_2=2\n"
     ]
    }
   ],
   "source": [
    "x,y,b=2,5,7\n",
    "func_2=2*x+3*y+b\n",
    "print(\"func_2={}\".format(x,y,b,func_2))"
   ]
  },
  {
   "cell_type": "code",
   "execution_count": 16,
   "id": "1a0c9b75-54f2-4a6e-86b6-d02b88af0cef",
   "metadata": {},
   "outputs": [
    {
     "name": "stdout",
     "output_type": "stream",
     "text": [
      "func_2=0\n"
     ]
    }
   ],
   "source": [
    "x,y,b=2,5,7\n",
    "x,y,*z=0,1,2,3,4,5,6\n",
    "func_2=2*x+3*y+b\n",
    "print(\"func_2={}\".format(x,y,b,func_2))"
   ]
  },
  {
   "cell_type": "code",
   "execution_count": 5,
   "id": "7589f84b-3bfd-4639-b89b-735e71f666ac",
   "metadata": {},
   "outputs": [
    {
     "name": "stdout",
     "output_type": "stream",
     "text": [
      "<class 'list'>\n",
      "The list length=2\n"
     ]
    }
   ],
   "source": [
    "lst_n=list(range(5,9,2))\n",
    "print(list)\n",
    "print(\"The list length={}\".format(len(lst_n)))"
   ]
  },
  {
   "cell_type": "code",
   "execution_count": 6,
   "id": "137760f3-f7ce-458f-ade7-ffa2692fc52c",
   "metadata": {},
   "outputs": [
    {
     "name": "stdout",
     "output_type": "stream",
     "text": [
      "<class 'list'>\n",
      "The list length=5\n"
     ]
    }
   ],
   "source": [
    "lst_n=list(range(5,20,3)) #建立列表建立区间。\n",
    "print(list)\n",
    "print(\"The list length={}\".format(len(lst_n)))"
   ]
  },
  {
   "cell_type": "code",
   "execution_count": 19,
   "id": "9c79a64e-7266-457a-bca7-0e85fe39cc67",
   "metadata": {},
   "outputs": [
    {
     "name": "stdout",
     "output_type": "stream",
     "text": [
      "<class 'list'>\n",
      "The list length=5\n"
     ]
    }
   ],
   "source": [
    "lst_n=list(range(5,20,3)) #建立列表。range(start,stop,[,step])建立区间。\n",
    "print(list)\n",
    "print(\"The list length={}\".format(len(lst_n)))"
   ]
  },
  {
   "cell_type": "code",
   "execution_count": 20,
   "id": "dc72ef7d-52dc-4b29-a1b1-caa9f8a54446",
   "metadata": {},
   "outputs": [
    {
     "name": "stdout",
     "output_type": "stream",
     "text": [
      "<class 'list'>\n",
      "The list length=3\n"
     ]
    }
   ],
   "source": [
    "lst_n=list(range(5,20,5)) \n",
    "print(list)\n",
    "print(\"The list length={}\".format(len(lst_n)))#len长度"
   ]
  },
  {
   "cell_type": "code",
   "execution_count": 7,
   "id": "a23731e0-53a5-4392-a6cd-d3d620cb2004",
   "metadata": {},
   "outputs": [
    {
     "name": "stdout",
     "output_type": "stream",
     "text": [
      "<class 'list'>\n",
      "Maximum value=17\n"
     ]
    }
   ],
   "source": [
    "lst_n=list(range(5,20,3)) \n",
    "print(list)\n",
    "print(\"Maximum value={}\".format(max(lst_n)))#最大值"
   ]
  },
  {
   "cell_type": "code",
   "execution_count": 8,
   "id": "3a8698d3-c1d1-4534-8aa7-9e14671d5c9e",
   "metadata": {},
   "outputs": [
    {
     "name": "stdout",
     "output_type": "stream",
     "text": [
      "<class 'list'>\n",
      "Maximum value=15\n"
     ]
    }
   ],
   "source": [
    "lst_n=list(range(5,20,5)) \n",
    "print(list)\n",
    "print(\"Maximum value={}\".format(max(lst_n)))"
   ]
  },
  {
   "cell_type": "code",
   "execution_count": 23,
   "id": "7427f6f7-ec41-4b34-9849-d74151f835ab",
   "metadata": {},
   "outputs": [
    {
     "name": "stdout",
     "output_type": "stream",
     "text": [
      "<class 'list'>\n",
      "Maximum value=16\n"
     ]
    }
   ],
   "source": [
    "lst_n=list(range(10,18,3)) \n",
    "print(list)\n",
    "print(\"Maximum value={}\".format(max(lst_n)))"
   ]
  },
  {
   "cell_type": "code",
   "execution_count": 24,
   "id": "2bbf4d21-b296-4e68-9d3c-cc9c3b735083",
   "metadata": {},
   "outputs": [
    {
     "name": "stdout",
     "output_type": "stream",
     "text": [
      "<class 'list'>\n",
      "Minimum value=1\n"
     ]
    }
   ],
   "source": [
    "lst_n=list(range(1,19,3))\n",
    "print(list)\n",
    "print(\"Minimum value={}\".format(min(lst_n)))"
   ]
  },
  {
   "cell_type": "code",
   "execution_count": 25,
   "id": "981ec50a-b8cf-45e8-adab-a624944ef432",
   "metadata": {},
   "outputs": [
    {
     "name": "stdout",
     "output_type": "stream",
     "text": [
      "['d', 'e', 'f', 'g', 'h', 'i', 'j', 'k', 'l', 'm']\n"
     ]
    }
   ],
   "source": [
    "lst_s=list(map(chr,range(100,110)))\n",
    "print(lst_s)"
   ]
  },
  {
   "cell_type": "code",
   "execution_count": 26,
   "id": "e3fb7e34-e09a-4c37-ad05-63af258fc993",
   "metadata": {},
   "outputs": [
    {
     "name": "stdout",
     "output_type": "stream",
     "text": [
      "['a', 'b', 'c', 'd', 'e', 'f', 'g', 'h', 'i', 'j', 'k', 'l', 'm']\n"
     ]
    }
   ],
   "source": [
    "lst_s=list(map(chr,range(97,110)))\n",
    "print(lst_s)"
   ]
  },
  {
   "cell_type": "code",
   "execution_count": 27,
   "id": "05a09556-0abb-4a70-82fc-2ec5a034775d",
   "metadata": {},
   "outputs": [
    {
     "name": "stdout",
     "output_type": "stream",
     "text": [
      "[0:9]->['d', 'e', 'f']\n"
     ]
    }
   ],
   "source": [
    "print(\"[0:9]->{}\".format(lst_s[3:6]))"
   ]
  },
  {
   "cell_type": "code",
   "execution_count": 28,
   "id": "0c0816ca-9951-423c-a8fa-9e41723cc3b6",
   "metadata": {},
   "outputs": [
    {
     "name": "stdout",
     "output_type": "stream",
     "text": [
      "[0:9]->['d', 'e']\n"
     ]
    }
   ],
   "source": [
    "print(\"[0:9]->{}\".format(lst_s[3:5]))"
   ]
  },
  {
   "cell_type": "code",
   "execution_count": 29,
   "id": "46af6ec4-da50-494b-b7dd-1821eec339b6",
   "metadata": {},
   "outputs": [
    {
     "name": "stdout",
     "output_type": "stream",
     "text": [
      "[-3:0]->[]\n"
     ]
    }
   ],
   "source": [
    "print(\"[-3:0]->{}\".format(lst_s[-3:0]))"
   ]
  },
  {
   "cell_type": "code",
   "execution_count": 30,
   "id": "4d4c7d7d-7e14-4590-b3f4-1db50b298f60",
   "metadata": {},
   "outputs": [
    {
     "name": "stdout",
     "output_type": "stream",
     "text": [
      "[-5:]->['i', 'j', 'k', 'l', 'm']\n"
     ]
    }
   ],
   "source": [
    "print(\"[-5:]->{}\".format(lst_s[-5:]))"
   ]
  },
  {
   "cell_type": "code",
   "execution_count": 31,
   "id": "29f7ca03-7f15-4310-81bd-441de31f5aaf",
   "metadata": {},
   "outputs": [
    {
     "name": "stdout",
     "output_type": "stream",
     "text": [
      "[:-3]->['a', 'b', 'c']\n"
     ]
    }
   ],
   "source": [
    "print(\"[:-3]->{}\".format(lst_s[:3]))"
   ]
  },
  {
   "cell_type": "code",
   "execution_count": 32,
   "id": "15f7c265-b46a-4f7c-9970-836504fb5815",
   "metadata": {},
   "outputs": [
    {
     "name": "stdout",
     "output_type": "stream",
     "text": [
      "[:]->['a', 'b', 'c', 'd', 'e', 'f', 'g', 'h', 'i', 'j', 'k', 'l', 'm']\n"
     ]
    }
   ],
   "source": [
    "print(\"[:]->{}\".format(lst_s[:]))"
   ]
  },
  {
   "cell_type": "code",
   "execution_count": 33,
   "id": "e837b46d-f75c-4a72-88b2-614dd65b0a98",
   "metadata": {},
   "outputs": [
    {
     "name": "stdout",
     "output_type": "stream",
     "text": [
      "['a', 'b', 'c', 'd', 'e', 'f', 'g', 'h', 'i', 'j', 'k', 'l', 'm']\n"
     ]
    }
   ],
   "source": [
    "print(lst_s)"
   ]
  },
  {
   "cell_type": "code",
   "execution_count": 34,
   "id": "c9b4d826-5c12-4276-ad6b-168e9c51391e",
   "metadata": {},
   "outputs": [
    {
     "name": "stdout",
     "output_type": "stream",
     "text": [
      "________________________________________________________\n"
     ]
    }
   ],
   "source": [
    "print(\"_\"*56)"
   ]
  },
  {
   "cell_type": "code",
   "execution_count": 35,
   "id": "c3630404-053e-4d88-92a8-e6b735d4dc3a",
   "metadata": {},
   "outputs": [
    {
     "name": "stdout",
     "output_type": "stream",
     "text": [
      "[0:6:2]->['a', 'c', 'e']\n"
     ]
    }
   ],
   "source": [
    "print(\"[0:6:2]->{}\".format(lst_s[0:6:2]))"
   ]
  },
  {
   "cell_type": "code",
   "execution_count": 36,
   "id": "0a342351-81ad-475e-ac78-eb6ec20672bf",
   "metadata": {},
   "outputs": [
    {
     "name": "stdout",
     "output_type": "stream",
     "text": [
      "[10:3:-2]->['j', 'h', 'f']\n"
     ]
    }
   ],
   "source": [
    "print(\"[10:3:-2]->{}\".format(lst_s[9:3:-2]))"
   ]
  },
  {
   "cell_type": "code",
   "execution_count": 37,
   "id": "3afbfa3d-be39-489c-8907-a77f7794664a",
   "metadata": {},
   "outputs": [
    {
     "name": "stdout",
     "output_type": "stream",
     "text": [
      "[10::-2]->['h', 'f', 'd', 'b']\n"
     ]
    }
   ],
   "source": [
    "print(\"[10::-2]->{}\".format(lst_s[7::-2]))"
   ]
  },
  {
   "cell_type": "code",
   "execution_count": 38,
   "id": "f747373e-e670-41d7-a41e-1baef100e625",
   "metadata": {},
   "outputs": [
    {
     "name": "stdout",
     "output_type": "stream",
     "text": [
      "[:8:-2]->['m', 'h']\n"
     ]
    }
   ],
   "source": [
    "print(\"[:8:-2]->{}\".format(lst_s[:3:-5]))"
   ]
  },
  {
   "cell_type": "code",
   "execution_count": 10,
   "id": "a40d8982-58ee-4352-b6b1-dcadd7ef0037",
   "metadata": {},
   "outputs": [
    {
     "name": "stdout",
     "output_type": "stream",
     "text": [
      "['d', 'e', 'f', 'g', 'h', 'i', 'j', 'k', 'l', 'm']\n",
      "['d', 'e', 'f', 'g', 'h', 'i', 'j', 'k', 'l', 'm']\n",
      "——-——————-——————-——————-——————-——————-——————-——————-——————-——————-——————-——————-——————-——————-——————-——————-——————-——————-——————-——————-————\n"
     ]
    }
   ],
   "source": [
    "lst_s=list(map(chr,range(100,110)))\n",
    "print(lst_s)\n",
    "print(lst_s)\n",
    "print(\"——-————\"*20)\n",
    "lst_s[6]=45"
   ]
  },
  {
   "cell_type": "code",
   "execution_count": 2,
   "id": "9f3c1642-0237-4f63-985d-e225cc96030b",
   "metadata": {},
   "outputs": [],
   "source": [
    "lst_s=list(map(chr,range(100,110)))"
   ]
  },
  {
   "cell_type": "code",
   "execution_count": 3,
   "id": "a0db6dc8-a521-4603-b2e0-a6d6201c1d6f",
   "metadata": {},
   "outputs": [
    {
     "name": "stdout",
     "output_type": "stream",
     "text": [
      "['d', 'e', 'f', 'g', 'h', 'i', 'j', 'k', 'l', 'm']\n"
     ]
    }
   ],
   "source": [
    "print(lst_s)"
   ]
  },
  {
   "cell_type": "code",
   "execution_count": 4,
   "id": "f3bb4051-5915-422b-859b-fd67af4e9d6f",
   "metadata": {},
   "outputs": [
    {
     "name": "stdout",
     "output_type": "stream",
     "text": [
      "——-——————-——————-——————-——————-——————-——————-——————-——————-——————-——————-——————-——————-——————-——————-——————-——————-——————-——————-——————-————\n"
     ]
    }
   ],
   "source": [
    "print(\"——-————\"*20)\n",
    "lst_s[6]=45"
   ]
  },
  {
   "cell_type": "code",
   "execution_count": 5,
   "id": "20b70143-674e-4a84-bf85-5b25a74613f9",
   "metadata": {},
   "outputs": [
    {
     "name": "stdout",
     "output_type": "stream",
     "text": [
      "lst_s[6]=45->['d', 'e', 'f', 'g', 'h', 'i', 45, 'k', 'l', 'm']\n"
     ]
    }
   ],
   "source": [
    "print(\"lst_s[6]=45->{}\".format(lst_s))"
   ]
  },
  {
   "cell_type": "code",
   "execution_count": 12,
   "id": "9afc5955-de1d-4713-8d4f-0972f878eec4",
   "metadata": {},
   "outputs": [],
   "source": [
    "lst_none=lst_s+[15]*7\n",
    "lst_none=lst_s+[16]*7"
   ]
  },
  {
   "cell_type": "code",
   "execution_count": null,
   "id": "9c344506-2dd5-47e1-8f44-2abfb024dc3c",
   "metadata": {},
   "outputs": [],
   "source": []
  },
  {
   "cell_type": "code",
   "execution_count": null,
   "id": "9d979326-a8ee-490c-a911-c9f090690e6f",
   "metadata": {},
   "outputs": [],
   "source": []
  },
  {
   "cell_type": "code",
   "execution_count": 10,
   "id": "61a607ae-7f97-4d96-b42f-625a27473583",
   "metadata": {},
   "outputs": [
    {
     "name": "stdout",
     "output_type": "stream",
     "text": [
      "lst_s+[None]*7->['d', 'e', 'f', 'g', 'h', 'i', 45, 'k', 'l', 'm', None, None, None, None, None, None, None]\n"
     ]
    }
   ],
   "source": [
    "lst_none=lst_s+[None]*7\n",
    "print(\"lst_s+[None]*7->{}\".format(lst_none))"
   ]
  },
  {
   "cell_type": "code",
   "execution_count": null,
   "id": "08993ead-ed39-4620-9794-dac9a8672811",
   "metadata": {},
   "outputs": [],
   "source": []
  },
  {
   "cell_type": "code",
   "execution_count": 12,
   "id": "3351e12e-7e3f-4b90-9fc8-be412299ebcf",
   "metadata": {},
   "outputs": [
    {
     "name": "stdout",
     "output_type": "stream",
     "text": [
      "lst_none[14]=1115->['d', 'e', 'f', 'g', 'h', 'i', 45, 'k', 'l', 'm', None, None, None, None, 1115, None, None]\n"
     ]
    }
   ],
   "source": [
    "lst_none[14]=1115\n",
    "print(\"lst_none[14]=1115->{}\".format(lst_none))"
   ]
  },
  {
   "cell_type": "code",
   "execution_count": 13,
   "id": "901ba5f1-26cc-44a7-b750-7e151428d57f",
   "metadata": {},
   "outputs": [],
   "source": [
    "lst_none[-5:-3]=list(range(100,104,2))"
   ]
  },
  {
   "cell_type": "code",
   "execution_count": 14,
   "id": "64c3bdd7-da99-49a0-b30e-be53422d1f14",
   "metadata": {},
   "outputs": [
    {
     "name": "stdout",
     "output_type": "stream",
     "text": [
      "lst_none[-5:-3]=list(range(100,104,2))->['d', 'e', 'f', 'g', 'h', 'i', 45, 'k', 'l', 'm', None, None, 100, 102, 1115, None, None]\n"
     ]
    }
   ],
   "source": [
    "print(\"lst_none[-5:-3]=list(range(100,104,2))->{}\".format(lst_none))"
   ]
  },
  {
   "cell_type": "code",
   "execution_count": 15,
   "id": "96d74f1e-1e70-4f3d-8668-7502e821ed0e",
   "metadata": {},
   "outputs": [
    {
     "name": "stdout",
     "output_type": "stream",
     "text": [
      "lst_none[1:1]=[0,0,0,12]->['d', 0, 0, 0, 12, 'e', 'f', 'g', 'h', 'i', 45, 'k', 'l', 'm', None, None, 100, 102, 1115, None, None]\n"
     ]
    }
   ],
   "source": [
    "lst_none[1:1]=[0,0,0,12]\n",
    "print(\"lst_none[1:1]=[0,0,0,12]->{}\".format(lst_none))"
   ]
  },
  {
   "cell_type": "code",
   "execution_count": 16,
   "id": "b87cb5a5-5f3c-4f8f-b863-00a834eff70a",
   "metadata": {},
   "outputs": [
    {
     "name": "stdout",
     "output_type": "stream",
     "text": [
      "del lst_none[-1:]->['d', 0, 0, 0, 12, 'e', 'f', 'g', 'h', 'i', 45, 'k', 'l', 'm', None, None, 100, 102, 1115, None]\n"
     ]
    }
   ],
   "source": [
    "del lst_none[-1:] #删除\n",
    "print(\"del lst_none[-1:]->{}\".format(lst_none))"
   ]
  },
  {
   "cell_type": "code",
   "execution_count": 17,
   "id": "2c5335db-49e6-4f87-b3ba-72e8f0ced993",
   "metadata": {},
   "outputs": [
    {
     "data": {
      "text/plain": [
       "tuple"
      ]
     },
     "execution_count": 17,
     "metadata": {},
     "output_type": "execute_result"
    }
   ],
   "source": [
    "tuple"
   ]
  },
  {
   "cell_type": "code",
   "execution_count": 18,
   "id": "aef09a2e-cf76-4d51-869e-eb66b8a31c15",
   "metadata": {},
   "outputs": [
    {
     "name": "stdout",
     "output_type": "stream",
     "text": [
      "tuple_1=2,3,5,->(5, 6, 7)\n"
     ]
    }
   ],
   "source": [
    "tuple_1=5,6,7,#元组 元组中的元素值是不允许修改的\n",
    "print(\"tuple_1=2,3,5,->{}\".format(tuple_1))"
   ]
  },
  {
   "cell_type": "code",
   "execution_count": 19,
   "id": "dbf70459-0f79-4049-b9e0-6c2aecff9ea3",
   "metadata": {},
   "outputs": [
    {
     "name": "stdout",
     "output_type": "stream",
     "text": [
      "3*(19*3,)->(57, 57, 57)\n"
     ]
    }
   ],
   "source": [
    "print(\"3*(19*3,)->{}\".format(3*(19*3,)))"
   ]
  },
  {
   "cell_type": "code",
   "execution_count": 20,
   "id": "91034373-771c-434c-92e8-deba69b577f8",
   "metadata": {},
   "outputs": [
    {
     "name": "stdout",
     "output_type": "stream",
     "text": [
      "tuple((5,8,100))->(5, 8, 100)\n"
     ]
    }
   ],
   "source": [
    "print(\"tuple((5,8,100))->{}\".format(tuple((5,8,100)))) "
   ]
  },
  {
   "cell_type": "code",
   "execution_count": 21,
   "id": "7873b562-3b62-4fc1-bfdf-26a40d2991df",
   "metadata": {},
   "outputs": [
    {
     "name": "stdout",
     "output_type": "stream",
     "text": [
      "tuple([5,8,100])->(5, 8, 9)\n"
     ]
    }
   ],
   "source": [
    "print(\"tuple([5,8,100])->{}\".format(tuple([5,8,9])))"
   ]
  },
  {
   "cell_type": "code",
   "execution_count": 22,
   "id": "329a40d4-417d-4a7c-bc4b-60e0065e4f00",
   "metadata": {},
   "outputs": [
    {
     "data": {
      "text/plain": [
       "dict"
      ]
     },
     "execution_count": 22,
     "metadata": {},
     "output_type": "execute_result"
    }
   ],
   "source": [
    "dict"
   ]
  },
  {
   "cell_type": "code",
   "execution_count": 23,
   "id": "f59cfdb8-a6a2-479e-9e26-e939b7c79f2d",
   "metadata": {},
   "outputs": [
    {
     "name": "stdout",
     "output_type": "stream",
     "text": [
      "items->[(0, [0, 1, 2, 3, 4, 5]), (1, [[104, 166, 128, 114, 116]]), (5, 'python')]\n"
     ]
    }
   ],
   "source": [
    "import random#输入随机\n",
    "items=[(0,[i for i in range(6)]),(1,[random.sample(list(range(100,200,2)),5)]),(5,'python')]\n",
    "print(\"items->{}\".format(items))"
   ]
  },
  {
   "cell_type": "code",
   "execution_count": 24,
   "id": "894b7420-a55f-496b-a82d-8d7624292a8f",
   "metadata": {},
   "outputs": [
    {
     "name": "stdout",
     "output_type": "stream",
     "text": [
      "dic=dict(items)->{0: [0, 1, 2, 3, 4, 5], 1: [[104, 166, 128, 114, 116]], 5: 'python'}\n",
      "dic[1]->[[104, 166, 128, 114, 116]]\n"
     ]
    }
   ],
   "source": [
    "dic=dict(items)\n",
    "print(\"dic=dict(items)->{}\".format(dic))\n",
    "print(\"dic[1]->{}\".format(dic[1]))"
   ]
  },
  {
   "cell_type": "code",
   "execution_count": 25,
   "id": "120ce634-d8a9-4200-8f85-d94e861bc6ff",
   "metadata": {},
   "outputs": [
    {
     "name": "stdout",
     "output_type": "stream",
     "text": [
      "len(dic)->3\n"
     ]
    }
   ],
   "source": [
    "print(\"len(dic)->{}\".format(len(dic)))\n",
    "dic[3]=(random.random(),random.uniform(200,300))"
   ]
  },
  {
   "cell_type": "code",
   "execution_count": 26,
   "id": "b8f79f3c-0d75-4ad5-8c55-d7848df9158b",
   "metadata": {},
   "outputs": [
    {
     "name": "stdout",
     "output_type": "stream",
     "text": [
      "dic[3]=(random.random(),random.uniform(200,300))->{0: [0, 1, 2, 3, 4, 5], 1: [[104, 166, 128, 114, 116]], 5: 'python', 3: (0.5096026458009457, 285.3936877634285)}\n"
     ]
    }
   ],
   "source": [
    "print(\"dic[3]=(random.random(),random.uniform(200,300))->{}\".format(dic))"
   ]
  },
  {
   "cell_type": "code",
   "execution_count": 27,
   "id": "1f814a4b-d5fd-4472-95cb-306248fc8dcc",
   "metadata": {},
   "outputs": [
    {
     "name": "stdout",
     "output_type": "stream",
     "text": [
      "del dic[1]->{0: [0, 1, 2, 3, 4, 5], 5: 'python', 3: (0.5096026458009457, 285.3936877634285)}\n",
      "3 in dic->True\n",
      "5 in dic->True\n",
      "dic.keys()->dict_keys([0, 5, 3])\n",
      "dic.values()->dict_values([[0, 1, 2, 3, 4, 5], 'python', (0.5096026458009457, 285.3936877634285)])\n",
      "dic.items()->dict_items([(0, [0, 1, 2, 3, 4, 5]), (5, 'python'), (3, (0.5096026458009457, 285.3936877634285))])\n",
      "_________________________________________________\n",
      "list(dic.keys())->[0, 5, 3]\n"
     ]
    }
   ],
   "source": [
    "del dic[1]\n",
    "print(\"del dic[1]->{}\".format(dic))\n",
    "print(\"3 in dic->{}\".format(3 in dic))\n",
    "print(\"5 in dic->{}\".format(5 in dic))\n",
    "print(\"dic.keys()->{}\".format(dic.keys())) \n",
    "print(\"dic.values()->{}\".format(dic.values()))\n",
    "print(\"dic.items()->{}\".format(dic.items()))\n",
    "print(\"_\"*49)\n",
    "print(\"list(dic.keys())->{}\".format(list(dic.keys())))"
   ]
  },
  {
   "cell_type": "code",
   "execution_count": null,
   "id": "c793bebb-cb5f-46b2-adfc-76dc55460b3c",
   "metadata": {},
   "outputs": [],
   "source": []
  },
  {
   "cell_type": "code",
   "execution_count": null,
   "id": "20728803-cfe8-45de-98df-9c6383c73dd8",
   "metadata": {},
   "outputs": [],
   "source": []
  },
  {
   "cell_type": "code",
   "execution_count": 24,
   "id": "d6f8884f-23c6-4890-a5f9-486143c6d4df",
   "metadata": {},
   "outputs": [
    {
     "name": "stdout",
     "output_type": "stream",
     "text": [
      "len(dic)->3\n",
      "dic[3]=(random.random(),random.uniform(200,300))->{0: [0, 1, 2, 3, 4], 2: 'python', 3: (0.8130760035826913, 285.04931987401324)}\n"
     ]
    },
    {
     "ename": "KeyError",
     "evalue": "1",
     "output_type": "error",
     "traceback": [
      "\u001b[1;31m---------------------------------------------------------------------------\u001b[0m",
      "\u001b[1;31mKeyError\u001b[0m                                  Traceback (most recent call last)",
      "\u001b[1;32m<ipython-input-24-7e6f02d2f3a7>\u001b[0m in \u001b[0;36m<module>\u001b[1;34m\u001b[0m\n\u001b[0;32m      2\u001b[0m \u001b[0mdic\u001b[0m\u001b[1;33m[\u001b[0m\u001b[1;36m3\u001b[0m\u001b[1;33m]\u001b[0m\u001b[1;33m=\u001b[0m\u001b[1;33m(\u001b[0m\u001b[0mrandom\u001b[0m\u001b[1;33m.\u001b[0m\u001b[0mrandom\u001b[0m\u001b[1;33m(\u001b[0m\u001b[1;33m)\u001b[0m\u001b[1;33m,\u001b[0m\u001b[0mrandom\u001b[0m\u001b[1;33m.\u001b[0m\u001b[0muniform\u001b[0m\u001b[1;33m(\u001b[0m\u001b[1;36m200\u001b[0m\u001b[1;33m,\u001b[0m\u001b[1;36m300\u001b[0m\u001b[1;33m)\u001b[0m\u001b[1;33m)\u001b[0m\u001b[1;33m\u001b[0m\u001b[1;33m\u001b[0m\u001b[0m\n\u001b[0;32m      3\u001b[0m \u001b[0mprint\u001b[0m\u001b[1;33m(\u001b[0m\u001b[1;34m\"dic[3]=(random.random(),random.uniform(200,300))->{}\"\u001b[0m\u001b[1;33m.\u001b[0m\u001b[0mformat\u001b[0m\u001b[1;33m(\u001b[0m\u001b[0mdic\u001b[0m\u001b[1;33m)\u001b[0m\u001b[1;33m)\u001b[0m\u001b[1;33m\u001b[0m\u001b[1;33m\u001b[0m\u001b[0m\n\u001b[1;32m----> 4\u001b[1;33m \u001b[1;32mdel\u001b[0m \u001b[0mdic\u001b[0m\u001b[1;33m[\u001b[0m\u001b[1;36m1\u001b[0m\u001b[1;33m]\u001b[0m\u001b[1;33m\u001b[0m\u001b[1;33m\u001b[0m\u001b[0m\n\u001b[0m\u001b[0;32m      5\u001b[0m \u001b[0mprint\u001b[0m\u001b[1;33m(\u001b[0m\u001b[1;34m\"del dic[1]->{}\"\u001b[0m\u001b[1;33m.\u001b[0m\u001b[0mformat\u001b[0m\u001b[1;33m(\u001b[0m\u001b[0mdic\u001b[0m\u001b[1;33m)\u001b[0m\u001b[1;33m)\u001b[0m\u001b[1;33m\u001b[0m\u001b[1;33m\u001b[0m\u001b[0m\n\u001b[0;32m      6\u001b[0m \u001b[0mprint\u001b[0m\u001b[1;33m(\u001b[0m\u001b[1;34m\"3 in dic->{}\"\u001b[0m\u001b[1;33m.\u001b[0m\u001b[0mformat\u001b[0m\u001b[1;33m(\u001b[0m\u001b[1;36m3\u001b[0m \u001b[1;32min\u001b[0m \u001b[0mdic\u001b[0m\u001b[1;33m)\u001b[0m\u001b[1;33m)\u001b[0m\u001b[1;33m\u001b[0m\u001b[1;33m\u001b[0m\u001b[0m\n",
      "\u001b[1;31mKeyError\u001b[0m: 1"
     ]
    }
   ],
   "source": [
    "print(\"len(dic)->{}\".format(len(dic)))\n",
    "dic[3]=(random.random(),random.uniform(200,300))\n",
    "print(\"dic[3]=(random.random(),random.uniform(200,300))->{}\".format(dic))\n",
    "del dic[1]\n",
    "print(\"del dic[1]->{}\".format(dic))\n",
    "print(\"3 in dic->{}\".format(3 in dic))\n",
    "print(\"5 in dic->{}\".format(5 in dic))\n",
    "print(\"dic.keys()->{}\".format(dic.keys()))\n",
    "print(\"dic.values()->{}\".format(dic.values()))\n",
    "print(\"dic.items()->{}\".format(dic.items()))\n",
    "print(\"_\"*50)\n",
    "print(\"list(dic.keys())->{}\".format(list(dic.keys())))"
   ]
  },
  {
   "cell_type": "code",
   "execution_count": 20,
   "id": "0807b118-c748-4e08-bb50-7be2a4e8ee53",
   "metadata": {},
   "outputs": [
    {
     "name": "stdout",
     "output_type": "stream",
     "text": [
      "items->[(0, [0, 1, 2, 3, 4]), (1, [[156, 171, 193]]), (2, 'python')]\n",
      "dic=dict(items)->{0: [0, 1, 2, 3, 4], 1: [[156, 171, 193]], 2: 'python'}\n",
      "dic[1]->[[156, 171, 193]]\n"
     ]
    }
   ],
   "source": [
    "import random\n",
    "items=[(0,[i for i in range(5)]),(1,[random.sample(list(range(100,200,1)),3)]),(2,'python')] #[i for i in range(5)] 为列表推导式 list comprehension/derivation\n",
    "print(\"items->{}\".format(items))\n",
    "dic=dict(items)\n",
    "print(\"dic=dict(items)->{}\".format(dic))\n",
    "print(\"dic[1]->{}\".format(dic[1]))"
   ]
  },
  {
   "cell_type": "code",
   "execution_count": 21,
   "id": "f2e0a42c-c34f-49af-8795-03814ebc7c18",
   "metadata": {},
   "outputs": [
    {
     "name": "stdout",
     "output_type": "stream",
     "text": [
      "len(dic)->3\n",
      "dic[3]=(random.random(),random.uniform(200,300))->{0: [0, 1, 2, 3, 4], 1: [[156, 171, 193]], 2: 'python', 3: (0.815267622526082, 249.74018595762448)}\n",
      "del dic[1]->{0: [0, 1, 2, 3, 4], 2: 'python', 3: (0.815267622526082, 249.74018595762448)}\n",
      "3 in dic->True\n",
      "5 in dic->False\n",
      "dic.keys()->dict_keys([0, 2, 3])\n",
      "dic.values()->dict_values([[0, 1, 2, 3, 4], 'python', (0.815267622526082, 249.74018595762448)])\n",
      "dic.items()->dict_items([(0, [0, 1, 2, 3, 4]), (2, 'python'), (3, (0.815267622526082, 249.74018595762448))])\n",
      "__________________________________________________\n",
      "list(dic.keys())->[0, 2, 3]\n"
     ]
    }
   ],
   "source": [
    "print(\"len(dic)->{}\".format(len(dic)))\n",
    "dic[3]=(random.random(),random.uniform(200,300))\n",
    "print(\"dic[3]=(random.random(),random.uniform(200,300))->{}\".format(dic))\n",
    "del dic[1]\n",
    "print(\"del dic[1]->{}\".format(dic))\n",
    "print(\"3 in dic->{}\".format(3 in dic))\n",
    "print(\"5 in dic->{}\".format(5 in dic))\n",
    "print(\"dic.keys()->{}\".format(dic.keys())) \n",
    "print(\"dic.values()->{}\".format(dic.values()))\n",
    "print(\"dic.items()->{}\".format(dic.items()))\n",
    "print(\"_\"*50)\n",
    "print(\"list(dic.keys())->{}\".format(list(dic.keys())))"
   ]
  },
  {
   "cell_type": "code",
   "execution_count": 22,
   "id": "161841cc-393c-4abe-a601-d80f4b22649c",
   "metadata": {},
   "outputs": [
    {
     "name": "stdout",
     "output_type": "stream",
     "text": [
      "0 (0, [0, 1, 2, 3, 4])\n",
      "1 (2, 'python')\n",
      "2 (3, (0.815267622526082, 249.74018595762448))\n"
     ]
    }
   ],
   "source": [
    "for k,v in enumerate(dic.items()): \n",
    "    print(k,v)"
   ]
  },
  {
   "cell_type": "code",
   "execution_count": 52,
   "id": "e6e189a8-401e-473a-8c83-491c4570ae16",
   "metadata": {},
   "outputs": [
    {
     "name": "stdout",
     "output_type": "stream",
     "text": [
      "lst_A=[9, 11, 13, 15, 17, 19],lst_B=[90, 105, 120, 135]\n",
      "dic_2={0: [9, 11, 13, 15, 17, 19], 1: [90, 105, 120, 135]}\n",
      "__________________________________________________\n",
      "dic_assignment={0: [9, 11, 13, 15, 17, 19], 1: [90, 105, 120, 135]}\n",
      "dic_2.clear()->{}\n",
      "dic_assignment={}\n",
      "dic_2[5]=list(range(1,9,1))->{5: [1, 3, 5, 7]}\n",
      "dic_copy=dic_2.copy()->{5: [1, 3, 5, 7]}\n",
      "dic_2[8]=[5,7]->{5: [1, 3, 5, 7], 8: [5, 7]}\n",
      "dic_copy={5: [1, 3, 5, 7]}\n",
      "dic_copy[6].remove(6)->{5: [1, 3, 7]}\n",
      "dic_copy.setdefault(6,[88,100])->{5: [1, 3, 7]}\n",
      "dic_2.pop(5)->{8: [5, 7]}\n",
      "dic_update={8: [5, 7, 6, 3, 2], 9: [3, 2, 33, 55, 66]}\n",
      "dic_2.update(dic_update->{8: [5, 7, 6, 3, 2], 9: [3, 2, 33, 55, 66]}\n",
      "dic_2.get(9)->[3, 2, 33, 55, 66]\n",
      "dic_2.popitem()->{8: [5, 7, 6, 3, 2]}\n",
      "dic_3={}.fromkeys([0,1,2,3,4,'A'])->{0: None, 1: None, 2: None, 3: None, 4: None, 'A': None}\n"
     ]
    }
   ],
   "source": [
    "lst_A=list(range(9,20,2))\n",
    "lst_B=list(range(90,150,15))\n",
    "print(\"lst_A={},lst_B={}\".format(lst_A,lst_B))\n",
    "dic_2={0:lst_A,1:lst_B}\n",
    "print(\"dic_2={}\".format(dic_2))\n",
    "print(\"_\"*50)\n",
    "dic_assignment=dic_2\n",
    "print(\"dic_assignment={}\".format(dic_assignment))#赋值\n",
    "dic_2.clear()\n",
    "print(\"dic_2.clear()->{}\".format(dic_2))\n",
    "print(\"dic_assignment={}\".format(dic_assignment))\n",
    "dic_2[5]=list(range(1,9,2))\n",
    "print(\"dic_2[5]=list(range(1,9,1))->{}\".format(dic_2))\n",
    "dic_copy=dic_2.copy()\n",
    "print(\"dic_copy=dic_2.copy()->{}\".format(dic_copy))\n",
    "\n",
    "dic_2[8]=[5,7]\n",
    "print(\"dic_2[8]=[5,7]->{}\".format(dic_2))\n",
    "print(\"dic_copy={}\".format(dic_copy))\n",
    "dic_copy[5].remove(5)\n",
    "print(\"dic_copy[6].remove(6)->{}\".format(dic_copy))\n",
    "dic_copy.setdefault(5,[88,100])\n",
    "print(\"dic_copy.setdefault(6,[88,100])->{}\".format(dic_copy))\n",
    "dic_2.pop(5)\n",
    "print(\"dic_2.pop(5)->{}\".format(dic_2))\n",
    "dic_update={8:[5,7,6,3,2],9:[3,2,33,55,66]}\n",
    "print(\"dic_update={}\".format(dic_update))\n",
    "dic_2.update(dic_update) \n",
    "print(\"dic_2.update(dic_update->{}\".format(dic_2))\n",
    "print(\"dic_2.get(9)->{}\".format(dic_2.get(9)))\n",
    "dic_2.popitem() \n",
    "print(\"dic_2.popitem()->{}\".format(dic_2))\n",
    "\n",
    "dic_3={}.fromkeys([0,1,2,3,4,'A'])\n",
    "print(\"dic_3={}\"+\".fromkeys([0,1,2,3,4,'A'])->{}\".format(dic_3))"
   ]
  },
  {
   "cell_type": "code",
   "execution_count": 7,
   "id": "8f19471f-5218-4f99-9920-ad4261a29cee",
   "metadata": {},
   "outputs": [
    {
     "ename": "SyntaxError",
     "evalue": "invalid syntax (<ipython-input-7-2bc3eace6a71>, line 1)",
     "output_type": "error",
     "traceback": [
      "\u001b[1;36m  File \u001b[1;32m\"<ipython-input-7-2bc3eace6a71>\"\u001b[1;36m, line \u001b[1;32m1\u001b[0m\n\u001b[1;33m    3.3.5\u001b[0m\n\u001b[1;37m       ^\u001b[0m\n\u001b[1;31mSyntaxError\u001b[0m\u001b[1;31m:\u001b[0m invalid syntax\n"
     ]
    }
   ],
   "source": [
    "3.3.5"
   ]
  },
  {
   "cell_type": "code",
   "execution_count": 8,
   "id": "8a549fce-2793-4972-8892-c13cb18219f2",
   "metadata": {},
   "outputs": [
    {
     "name": "stdout",
     "output_type": "stream",
     "text": [
      "lst_s_3=list(\"bbye Python!\")->['b', 'b', 'y', 'e', ' ', 'P', 'y', 't', 'h', 'o', 'n']\n"
     ]
    }
   ],
   "source": [
    "lst_s_3=list(\"bbye Python\")\n",
    "print(\"lst_s_3=list(\\\"bbye Python!\\\")->{}\".format(lst_s_3))"
   ]
  },
  {
   "cell_type": "code",
   "execution_count": 9,
   "id": "c587d497-f25e-4e21-b4de-98ce618b4db7",
   "metadata": {},
   "outputs": [
    {
     "name": "stdout",
     "output_type": "stream",
     "text": [
      "\"OMG\"+\" Python!\"->OMG Python!\n"
     ]
    }
   ],
   "source": [
    "print(\"\\\"OMG\\\"+\\\" Python!\\\"->{}\".format(\"OMG\"+\" Python!\"))"
   ]
  },
  {
   "cell_type": "code",
   "execution_count": 10,
   "id": "232723b0-6891-4771-a79e-95428a0776d2",
   "metadata": {},
   "outputs": [
    {
     "name": "stdout",
     "output_type": "stream",
     "text": [
      "\"+\".join(str(23456789))->2+3+4+5+6+7+8+9\n"
     ]
    }
   ],
   "source": [
    "print(\"\\\"+\\\".join(str(23456789))->{}\".format(\"+\".join(str(23456789))))"
   ]
  },
  {
   "cell_type": "code",
   "execution_count": 11,
   "id": "2f1066a0-c9c2-4354-9b59-4631c6021338",
   "metadata": {},
   "outputs": [
    {
     "name": "stdout",
     "output_type": "stream",
     "text": [
      "len(\"OMGwibuhuipython\")->17\n"
     ]
    }
   ],
   "source": [
    "print(\"len(\\\"OMGwobuhuipython\\\")->{}\".format(len(\"OMGwobuhuipython!\")))"
   ]
  },
  {
   "cell_type": "code",
   "execution_count": 12,
   "id": "4bb0d28b-d5c9-4af9-ae8c-b43835a04616",
   "metadata": {},
   "outputs": [
    {
     "name": "stdout",
     "output_type": "stream",
     "text": [
      "len(\"OMGwobuhuipython\")->17\n"
     ]
    }
   ],
   "source": [
    "print(\"len(\\\"OMGwobuhuipython\\\")->{}\".format(len(\"OMGwobuhuipython!\")))"
   ]
  },
  {
   "cell_type": "code",
   "execution_count": 13,
   "id": "d4d33faf-3c89-4904-8f40-35cb29d631b3",
   "metadata": {},
   "outputs": [
    {
     "name": "stdout",
     "output_type": "stream",
     "text": [
      "coordinates.split(\",\")->['120.132007', '30.300508', '9.7']\n"
     ]
    }
   ],
   "source": [
    "coordinates=\"120.132007,30.300508,9.7\"\n",
    "print(\"coordinates.split(\\\",\\\")->{}\".format(coordinates.split(\",\")))"
   ]
  },
  {
   "cell_type": "code",
   "execution_count": 14,
   "id": "c28b4215-dac9-48a9-b014-608abb02426c",
   "metadata": {},
   "outputs": [
    {
     "name": "stdout",
     "output_type": "stream",
     "text": [
      "coordinates.split(\",\")->['120.132', '30.300', '9.7']\n"
     ]
    }
   ],
   "source": [
    "coordinates=\"120.132,30.300,9.7\"\n",
    "print(\"coordinates.split(\\\",\\\")->{}\".format(coordinates.split(\",\")))"
   ]
  },
  {
   "cell_type": "code",
   "execution_count": 15,
   "id": "4037481c-a51b-4ede-8c82-4fbd78209a4e",
   "metadata": {},
   "outputs": [
    {
     "name": "stdout",
     "output_type": "stream",
     "text": [
      "eval(coordinates)->(120.132, 30.3, 9.7)\n"
     ]
    }
   ],
   "source": [
    "print(\"eval(coordinates)->{}\".format(eval(coordinates)))#坐标"
   ]
  },
  {
   "cell_type": "code",
   "execution_count": 16,
   "id": "c76dbaf3-146b-4623-a6cb-aad6b8692f1f",
   "metadata": {},
   "outputs": [
    {
     "name": "stdout",
     "output_type": "stream",
     "text": [
      "\"aaaaIReally HATE PYTHON!\".lower()->aaaaireally hate python\n"
     ]
    }
   ],
   "source": [
    "print(\"\\\"aaaaIReally HATE PYTHON!\\\".lower()->{}\".format(\"aaaaIReally HATE PYTHON\".lower()))"
   ]
  },
  {
   "cell_type": "code",
   "execution_count": 18,
   "id": "23af2d53-b4ab-4bf9-a280-c0d709e7a72c",
   "metadata": {},
   "outputs": [
    {
     "name": "stdout",
     "output_type": "stream",
     "text": [
      "\"Hello Python!\".lower()->HELLO PYTHON!\n"
     ]
    }
   ],
   "source": [
    "print(\"\\\"Hello Python!\\\".lower()->{}\".format(\"Hello Python!\".upper()))"
   ]
  },
  {
   "cell_type": "code",
   "execution_count": 20,
   "id": "2ae026fe-c7f1-4b88-bffe-9d90ae5b4568",
   "metadata": {},
   "outputs": [
    {
     "name": "stdout",
     "output_type": "stream",
     "text": [
      "\"aaaaIReally HATE PYTHON!\".upper()->AAAAIREALLY HATE PYTHON\n"
     ]
    }
   ],
   "source": [
    "print(\"\\\"aaaaIReally HATE PYTHON!\\\".upper()->{}\".format(\"aaaaIReally HATE PYTHON\".upper()))"
   ]
  },
  {
   "cell_type": "code",
   "execution_count": 21,
   "id": "c2573a92-10f4-4da0-ae56-a1ff8447fe6d",
   "metadata": {},
   "outputs": [
    {
     "name": "stdout",
     "output_type": "stream",
     "text": [
      "\"Hello Python!\"[6:]->Python!\n"
     ]
    }
   ],
   "source": [
    "print(\"\\\"Hello Python!\\\"[6:]->{}\".format(\"Hello Python!\"[6:]))"
   ]
  },
  {
   "cell_type": "code",
   "execution_count": 24,
   "id": "3c3bd0ef-78cd-4b10-a489-531171b13597",
   "metadata": {},
   "outputs": [
    {
     "name": "stdout",
     "output_type": "stream",
     "text": [
      "\"zaijian Python!\"[3:9]->jian P\n"
     ]
    }
   ],
   "source": [
    "print(\"\\\"zaijian Python!\\\"[3:9]->{}\".format(\"zaijian Python!\"[3:9]))"
   ]
  },
  {
   "cell_type": "code",
   "execution_count": 25,
   "id": "a027eb1f-4e84-497a-ad4c-8e42aaa7228a",
   "metadata": {},
   "outputs": [
    {
     "name": "stdout",
     "output_type": "stream",
     "text": [
      "\"    Hello Python!    \".strip()->Hello Python!\n"
     ]
    }
   ],
   "source": [
    "print(\"\\\"    Hello Python!    \\\".strip()->{}\".format(\"    Hello Python!    \".strip()))#带"
   ]
  },
  {
   "cell_type": "code",
   "execution_count": 26,
   "id": "8bd11eb5-dc08-4a90-80e4-bff2ac9dceac",
   "metadata": {},
   "outputs": [
    {
     "name": "stdout",
     "output_type": "stream",
     "text": [
      "\"    MOGMOG Python!    \".strip()->OMGOMG Python!\n"
     ]
    }
   ],
   "source": [
    "print(\"\\\"    MOGMOG Python!    \\\".strip()->{}\".format(\"    OMGOMG Python!    \".strip()))"
   ]
  },
  {
   "cell_type": "code",
   "execution_count": 28,
   "id": "845f4dc3-9e4e-4ff7-a9ea-6dbc8efc30f3",
   "metadata": {},
   "outputs": [
    {
     "name": "stdout",
     "output_type": "stream",
     "text": [
      "\"HeY DS!\".replace(\"DS\",\"SD\")->HeY SD!\n"
     ]
    }
   ],
   "source": [
    "print(\"\\\"HeY DS!\\\".replace(\\\"DS\\\",\\\"SD\\\")->{}\".format(\"HeY DS!\".replace(\"DS\",\"SD\")))\n",
    "hello_lst=list(\"HeY DS!\")"
   ]
  },
  {
   "cell_type": "code",
   "execution_count": 29,
   "id": "f5963cff-7d18-4987-9240-e1cb0163170e",
   "metadata": {},
   "outputs": [
    {
     "name": "stdout",
     "output_type": "stream",
     "text": [
      "hello_lst.sort()>[' ', '!', 'D', 'H', 'S', 'Y', 'e']\n"
     ]
    }
   ],
   "source": [
    "hello_lst.sort()\n",
    "print(\"hello_lst.sort()>{}\".format(hello_lst))"
   ]
  },
  {
   "cell_type": "code",
   "execution_count": 30,
   "id": "62689756-208a-4b2e-9b50-247cff3db53e",
   "metadata": {},
   "outputs": [
    {
     "name": "stdout",
     "output_type": "stream",
     "text": [
      "\"HeY DS!\".find(\"DS\")->4\n"
     ]
    }
   ],
   "source": [
    "print(\"\\\"HeY DS!\\\".find(\\\"DS\\\")->{}\".format(\"HeY DS!\".find(\"DS\")))"
   ]
  },
  {
   "cell_type": "code",
   "execution_count": 31,
   "id": "4695a69d-0591-40f8-99d3-47d90aaa965b",
   "metadata": {},
   "outputs": [
    {
     "name": "stdout",
     "output_type": "stream",
     "text": [
      "new_str=format_str % values->Hello,DS and WZQ!\n"
     ]
    }
   ],
   "source": [
    "format_str=\"Hello,%s and %s!\"\n",
    "values=(\"DS\",\"WZQ\")\n",
    "new_str=format_str % values\n",
    "print(\"new_str=format_str % values->{}\".format(new_str))"
   ]
  },
  {
   "cell_type": "code",
   "execution_count": 34,
   "id": "0f96a510-dfe5-4ace-bee4-07a1f3bd2b38",
   "metadata": {},
   "outputs": [
    {
     "name": "stdout",
     "output_type": "stream",
     "text": [
      "new_str_2=format_str_2 % (pi,3.1415926)->Pi with three decimals:3.14159,and enter a value with percent sign:3.14159 %\n"
     ]
    }
   ],
   "source": [
    "format_str_2=\"Pi with three decimals:%.5f,and enter a value with percent sign:%.5f %%\"\n",
    "\n",
    "from math import pi\n",
    "new_str_2=format_str_2 % (pi,3.1415926)\n",
    "print(\"new_str_2=format_str_2 % (pi,3.1415926)->{}\".format(new_str_2))"
   ]
  },
  {
   "cell_type": "code",
   "execution_count": 35,
   "id": "1b1dd263-0284-48c0-9e70-7388d2e5da45",
   "metadata": {},
   "outputs": [
    {
     "name": "stdout",
     "output_type": "stream",
     "text": [
      "  3.141593,      3.14,3.14,Hello,Hello,52,34,3.141593\n"
     ]
    }
   ],
   "source": [
    "format_str_3=\"%10f,%10.2f,%.2f,%.5s,%.*s,%d,%x,%f\"\n",
    "new_str_3=format_str_3%(pi,pi,pi,\"Hello Python!\",5,\"Hello Python!\",52,52,pi)\n",
    "print(\"{}\".format(new_str_3))"
   ]
  },
  {
   "cell_type": "code",
   "execution_count": 36,
   "id": "81595ee9-c0fd-4b15-83dc-80a749d397c3",
   "metadata": {},
   "outputs": [
    {
     "name": "stdout",
     "output_type": "stream",
     "text": [
      "  3.141593,      3.14,3.142,Hello Pyt,Hello,52,34,3.141593\n"
     ]
    }
   ],
   "source": [
    "format_str_3=\"%10f,%10.2f,%.3f,%.9s,%.*s,%d,%x,%f\"\n",
    "new_str_3=format_str_3%(pi,pi,pi,\"Hello Python!\",5,\"Hello Python!\",52,52,pi)\n",
    "print(\"{}\".format(new_str_3))"
   ]
  },
  {
   "cell_type": "code",
   "execution_count": 37,
   "id": "26fe7091-6698-498d-9a89-7942858a1abf",
   "metadata": {},
   "outputs": [
    {
     "ename": "SyntaxError",
     "evalue": "invalid syntax (<ipython-input-37-3480e93c4c71>, line 1)",
     "output_type": "error",
     "traceback": [
      "\u001b[1;36m  File \u001b[1;32m\"<ipython-input-37-3480e93c4c71>\"\u001b[1;36m, line \u001b[1;32m1\u001b[0m\n\u001b[1;33m    Template()函数-模板字符串+$+st.substitute()\u001b[0m\n\u001b[1;37m              ^\u001b[0m\n\u001b[1;31mSyntaxError\u001b[0m\u001b[1;31m:\u001b[0m invalid syntax\n"
     ]
    }
   ],
   "source": [
    "Template()函数-模板字符串+$+st.substitute()"
   ]
  },
  {
   "cell_type": "code",
   "execution_count": 39,
   "id": "2422aa70-5d4b-4ff0-a3d4-774da7d60956",
   "metadata": {},
   "outputs": [
    {
     "name": "stdout",
     "output_type": "stream",
     "text": [
      "s_1=s_template_1.substitute(x=\"DS\")->DS,WO AI,DS!\n"
     ]
    }
   ],
   "source": [
    "from string import Template\n",
    "s_template_1=Template(\"$x,WO AI,$x!\")\n",
    "s_1=s_template_1.substitute(x=\"DS\")#替代\n",
    "print(\"s_1=s_template_1.substitute(x=\\\"DS\\\")->{}\".format(s_1))"
   ]
  },
  {
   "cell_type": "code",
   "execution_count": 40,
   "id": "ad0597a4-c5fd-44b8-b17d-1b64234c6067",
   "metadata": {},
   "outputs": [
    {
     "name": "stdout",
     "output_type": "stream",
     "text": [
      "s_2=s_template_2.substitute(x=\"DS\")->DS is amazing!\n"
     ]
    }
   ],
   "source": [
    "s_template_2=Template(\"${x} is amazing!\")\n",
    "s_2=s_template_2.substitute(x=\"DS\")\n",
    "print(\"s_2=s_template_2.substitute(x=\\\"DS\\\")->{}\".format(s_2))"
   ]
  },
  {
   "cell_type": "code",
   "execution_count": 41,
   "id": "41ab5d2b-cc4e-4fa1-8954-4ed6a4922bd8",
   "metadata": {},
   "outputs": [
    {
     "name": "stdout",
     "output_type": "stream",
     "text": [
      "substitute_dict={'x': 'DS', 'y': 'WZQ'}\n",
      "s_3=s_template_3.substitute(substitute_dict)->DS and WZQ are both amazing!\n"
     ]
    }
   ],
   "source": [
    "s_template_3=Template(\"$x and $y are both amazing!\")#模板\n",
    "substitute_dict=dict([('x','DS'),('y','WZQ')])\n",
    "print(\"substitute_dict={}\".format(substitute_dict))\n",
    "s_3=s_template_3.substitute(substitute_dict)\n",
    "print(\"s_3=s_template_3.substitute(substitute_dict)->{}\".format(s_3))"
   ]
  },
  {
   "cell_type": "code",
   "execution_count": 42,
   "id": "78e65722-71a4-477a-9bd5-6bac14526bf2",
   "metadata": {},
   "outputs": [
    {
     "ename": "SyntaxError",
     "evalue": "invalid syntax (<ipython-input-42-cf7cf9483438>, line 1)",
     "output_type": "error",
     "traceback": [
      "\u001b[1;36m  File \u001b[1;32m\"<ipython-input-42-cf7cf9483438>\"\u001b[1;36m, line \u001b[1;32m1\u001b[0m\n\u001b[1;33m    3.3.6 string-re(regular expression)\u001b[0m\n\u001b[1;37m       ^\u001b[0m\n\u001b[1;31mSyntaxError\u001b[0m\u001b[1;31m:\u001b[0m invalid syntax\n"
     ]
    }
   ],
   "source": [
    "3.3.6 string-re(regular expression)"
   ]
  },
  {
   "cell_type": "code",
   "execution_count": 44,
   "id": "e6b7c8e4-67ed-4f00-b1ed-3a4f5cd8f759",
   "metadata": {},
   "outputs": [
    {
     "name": "stdout",
     "output_type": "stream",
     "text": [
      "re.findall(pattern_1,text)->[]\n",
      "re.findall(pattern_2,text)->['DS']\n"
     ]
    }
   ],
   "source": [
    "import re\n",
    "pattern_1='DSSSS'\n",
    "text=\"Hello DS!\"\n",
    "print(\"re.findall(pattern_1,text)->{}\".format(re.findall(pattern_1,text)))\n",
    "pattern_2='DS'\n",
    "print(\"re.findall(pattern_2,text)->{}\".format(re.findall(pattern_2,text)))"
   ]
  },
  {
   "cell_type": "code",
   "execution_count": 47,
   "id": "4e88c1fc-51f7-4cbd-8a59-f165efdf3413",
   "metadata": {},
   "outputs": [
    {
     "name": "stdout",
     "output_type": "stream",
     "text": [
      "re.findall('.ython',' on!')->['Python']\n",
      "re.findall('.ython','Hello gython!')->['gython']\n",
      "re.findall('.ython','Hello gPython!')->['Python']\n",
      "re.findall('.ython','Hello Pthon!')->[]\n"
     ]
    }
   ],
   "source": [
    "print(\"re.findall('.ython',' on!')->{}\".format(re.findall('.ython','Hello Python!')))\n",
    "print(\"re.findall('.ython','Hello gython!')->{}\".format(re.findall('.ython','Hello gython!')))\n",
    "print(\"re.findall('.ython','Hello gPython!')->{}\".format(re.findall('.ython','Hello gPython!')))\n",
    "print(\"re.findall('.ython','Hello Pthon!')->{}\".format(re.findall('.ython','Hello Pthon!')))"
   ]
  },
  {
   "cell_type": "code",
   "execution_count": 48,
   "id": "3f58555a-5563-47c2-9e3d-32d46c525e3b",
   "metadata": {},
   "outputs": [
    {
     "name": "stdout",
     "output_type": "stream",
     "text": [
      "re.findall(r'w?cadesign\\.cn,w+\\.cadesign\\.cn','cadesign.cn,www.cadesign.cn')->['cadesign.cn,www.cadesign.cn']\n",
      "re.findall(r'w{2}\\.cadesign\\.cn','www.cadesign.cn')->['ww.cadesign.cn']\n",
      "re.findall(r'w{1,3}\\.cadesign\\.cn','www.cadesign.cn')->['www.cadesign.cn']\n"
     ]
    }
   ],
   "source": [
    "print(\"re.findall(r'w?cadesign\\.cn,w+\\.cadesign\\.cn','cadesign.cn,www.cadesign.cn')->{}\".format(re.findall(r'w?cadesign\\.cn,w+\\.cadesign\\.cn','cadesign.cn,www.cadesign.cn')))\n",
    "print(\"re.findall(r'w{2}\"+\"\\.cadesign\\.cn','www.cadesign.cn')->{}\".format(re.findall(r'w{2}\\.cadesign\\.cn','www.cadesign.cn')))\n",
    "print(\"re.findall(r'w{1,3}\"+\"\\.cadesign\\.cn','www.cadesign.cn')->{}\".format(re.findall(r'w{1,3}\\.cadesign\\.cn','www.cadesign.cn')))"
   ]
  },
  {
   "cell_type": "code",
   "execution_count": 51,
   "id": "cfece641-53cf-43a1-ab06-1d7d38520b6d",
   "metadata": {},
   "outputs": [
    {
     "name": "stdout",
     "output_type": "stream",
     "text": [
      "re.findall('DSSSS|WZQ','DSSSS')->['DSSSS']\n",
      "re.findall('python|DSSS','DSSS')->['DSSS']\n",
      "re.findall('python|DUCK','duck and python')->['duck', 'python']\n"
     ]
    }
   ],
   "source": [
    "print(\"re.findall('DSSSS|WZQ','DSSSS')->{}\".format(re.findall('DSSSS|WZQ','DSSSS')))\n",
    "print(\"re.findall('python|DSSS','DSSS')->{}\".format(re.findall('python|DSSS','DSSS')))\n",
    "print(\"re.findall('python|DUCK','duck and python')->{}\".format(re.findall('python|duck','duck and python')))"
   ]
  },
  {
   "cell_type": "code",
   "execution_count": 56,
   "id": "912997dd-bb4d-4331-985e-9c4d93bae642",
   "metadata": {},
   "outputs": [
    {
     "name": "stdout",
     "output_type": "stream",
     "text": [
      "re.findall('\\d','number=90')->['9', '0']\n",
      "re.findall('\\D','duck+qt=99')->['d', 'u', 'c', 'k', '+', 'q', 't', '=']\n",
      "re.findall('[^0-8]','duck+qt=99')->['d', 'u', 'c', 'k', '+', 'q', 't', '=', '9', '9']\n"
     ]
    }
   ],
   "source": [
    "print(\"re.findall('\\d','number=90')->{}\".format(re.findall('\\d','number=90')))\n",
    "print(\"re.findall('\\D','duck+qt=99')->{}\".format(re.findall('\\D','duck+qt=99')))\n",
    "print(\"re.findall('[^0-8]','duck+qt=99')->{}\".format(re.findall('[^0-8]','duck+qt=99')))"
   ]
  },
  {
   "cell_type": "code",
   "execution_count": 62,
   "id": "ac9520e4-f7ff-4de1-8efd-77d4f1cdbda1",
   "metadata": {},
   "outputs": [
    {
     "name": "stdout",
     "output_type": "stream",
     "text": [
      "re.findall('[a-z]','ipad')->['i', 'p', 'a', 'd']\n",
      "re.search('[a-z]+','ipad')-><re.Match object; span=(0, 4), match='ipad'>\n",
      "re.search('[a-z]+','ipad')->found it!\n",
      "re.split(',','aaaaa,,,,,,Python!')->['aaaaa', '', '', '', '', '', 'Python!']\n",
      "re.sub('Python','duck','apple!')->apple!\n",
      "pattern_compile.findall('omg,,,,,,Python!')->['Python']\n",
      "re.match('p','python')->found it!\n"
     ]
    }
   ],
   "source": [
    "print(\"re.findall('[a-z]','ipad')->{}\".format(re.findall('[a-z]','ipad-3.0')))\n",
    "print(\"re.search('[a-z]+','ipad')->{}\".format(re.search('[a-z]+','ipad')))\n",
    "if re.search('[a-z]+','ipad'):\n",
    "    print(\"re.search('[a-z]+','ipad')->found it!\")\n",
    "print(\"re.split(',','aaaaa,,,,,,Python!')->{}\".format(re.split(',','aaaaa,,,,,,Python!')))\n",
    "print(\"re.sub('Python','duck','apple!')->{}\".format(re.sub('Python','duck','apple!')))\n",
    "\n",
    "pattern_compile=re.compile('Python')\n",
    "print(\"pattern_compile.findall('omg,,,,,,Python!')->{}\".format(pattern_compile.findall('omg,,,,,,Python!')))\n",
    "\n",
    "if re.match('p','python'):\n",
    "    print(\"re.match('p','python')->found it!\")"
   ]
  },
  {
   "cell_type": "code",
   "execution_count": 65,
   "id": "0b47a9f6-c840-495d-97f9-abb2972cccd8",
   "metadata": {},
   "outputs": [
    {
     "name": "stdout",
     "output_type": "stream",
     "text": [
      "'omg,,,,,,Python!'.split(',')->['omg', '', '', '', '', '', 'Python!']\n",
      "'Hello Python!'.replace('Python','duck')->Hello duck!\n"
     ]
    }
   ],
   "source": [
    "print(\"\\'omg,,,,,,Python!\\'.split(',')->{}\".format( 'omg,,,,,,Python!'.split(',')))\n",
    "print(\"\\'Hello Python!\\'.replace(\\'Python\\',\\'duck\\')->{}\".format( 'Hello Python!'.replace('Python','duck')))"
   ]
  },
  {
   "cell_type": "code",
   "execution_count": 66,
   "id": "62b75a2c-9617-4da8-9627-1cc275ded8d4",
   "metadata": {},
   "outputs": [
    {
     "name": "stdout",
     "output_type": "stream",
     "text": [
      "match_1.gourp(1)->python\n",
      "match_1.start(1)->4\n",
      "match_1.end(1)->10\n",
      "match_1.span(1)->(4, 10)\n",
      "match_2.group(1)->python\n",
      "match_2.group(2)->org\n"
     ]
    }
   ],
   "source": [
    "match_1=re.match(r'www\\.(.*)\\..{3}','www.python.org')\n",
    "print(\"match_1.gourp(1)->{}\".format(match_1.group(1)))\n",
    "print(\"match_1.start(1)->{}\".format(match_1.start(1)))\n",
    "print(\"match_1.end(1)->{}\".format(match_1.end(1)))\n",
    "print(\"match_1.span(1)->{}\".format(match_1.span(1)))\n",
    "match_2=re.match(r'www\\.(.*)\\.(.{3})','www.python.org')\n",
    "print(\"match_2.group(1)->{}\".format(match_2.group(1)))\n",
    "print(\"match_2.group(2)->{}\".format(match_2.group(2)))"
   ]
  },
  {
   "cell_type": "code",
   "execution_count": 67,
   "id": "bccbbd63-87ad-4d0e-9411-612afcdc9ceb",
   "metadata": {},
   "outputs": [
    {
     "ename": "SyntaxError",
     "evalue": "invalid syntax (<ipython-input-67-b5207be02b09>, line 1)",
     "output_type": "error",
     "traceback": [
      "\u001b[1;36m  File \u001b[1;32m\"<ipython-input-67-b5207be02b09>\"\u001b[1;36m, line \u001b[1;32m1\u001b[0m\n\u001b[1;33m    3.3.8 DataFrame(pandas) | GeoDataFrame(Geopandas)\u001b[0m\n\u001b[1;37m       ^\u001b[0m\n\u001b[1;31mSyntaxError\u001b[0m\u001b[1;31m:\u001b[0m invalid syntax\n"
     ]
    }
   ],
   "source": [
    "3.3.8 DataFrame(pandas) | GeoDataFrame(Geopandas)"
   ]
  },
  {
   "cell_type": "code",
   "execution_count": 72,
   "id": "b1c78c98-990d-4fa9-b5e0-6135933ff94b",
   "metadata": {},
   "outputs": [
    {
     "name": "stdout",
     "output_type": "stream",
     "text": [
      "lst_1=[20, 22, 24, 26, 28, 30, 32, 34, 36, 38]\n",
      "__________________________________________________\n",
      "for i in lst_1:\n",
      "20\n",
      "22\n",
      "24\n",
      "26\n",
      "28\n",
      "30\n",
      "32\n",
      "34\n",
      "36\n",
      "38\n",
      "for i in range(len(lst_1)):\n",
      "idx=0,val=20\n",
      "idx=1,val=22\n",
      "idx=2,val=24\n",
      "idx=3,val=26\n",
      "idx=4,val=28\n",
      "idx=5,val=30\n",
      "idx=6,val=32\n",
      "idx=7,val=34\n",
      "idx=8,val=36\n",
      "idx=9,val=38\n",
      "++++++++++++++++++++++++++++++++++++++++++++++++++\n",
      "dic_4={'a': 10, 'b': 4, 'c': 6, 'd': 0}\n",
      "__________________________________________________\n",
      "for k in dic_4:\n",
      "a\n",
      "b\n",
      "c\n",
      "d\n",
      "for k,v in dic_4.items():\n",
      "key=a,val=10\n",
      "key=b,val=4\n",
      "key=c,val=6\n",
      "key=d,val=0\n"
     ]
    }
   ],
   "source": [
    "lst_1=list(range(20,39,2))\n",
    "print(\"lst_1={}\".format(lst_1))\n",
    "print(\"_\"*50)\n",
    "print(\"for i in lst_1:\")\n",
    "for i in lst_1:\n",
    "    print(i)\n",
    "print(\"for i in range(len(lst_1)):\")\n",
    "for i in range(len(lst_1)):\n",
    "    print(\"idx={},val={}\".format(i,lst_1[i]))\n",
    "print(\"+\"*50)   \n",
    "dic_4=dict(a=10,b=4,c=6,d=0)\n",
    "print(\"dic_4={}\".format(dic_4))\n",
    "print(\"_\"*50)\n",
    "print(\"for k in dic_4:\")\n",
    "for k in dic_4:\n",
    "    print(k)\n",
    "print(\"for k,v in dic_4.items():\")\n",
    "for k,v in dic_4.items():\n",
    "    print(\"key={},val={}\".format(k,v))"
   ]
  },
  {
   "cell_type": "code",
   "execution_count": 73,
   "id": "5b3d8762-3145-4823-8659-30b915c7c495",
   "metadata": {},
   "outputs": [
    {
     "name": "stdout",
     "output_type": "stream",
     "text": [
      "x=5\n",
      "x=15\n",
      "x=25\n",
      "x=35\n",
      "x=45\n",
      "x=55\n",
      "x=65\n",
      "x=75\n",
      "x=85\n",
      "x=95\n",
      "x=105\n",
      "x=115\n",
      "x=125\n",
      "x=135\n",
      "x=145\n"
     ]
    }
   ],
   "source": [
    "x=5\n",
    "while x<=150:\n",
    "    print(\"x={}\".format(x))\n",
    "    x+=10     "
   ]
  },
  {
   "cell_type": "code",
   "execution_count": 84,
   "id": "eefa43ed-0eee-49ee-841f-25b2513ab768",
   "metadata": {},
   "outputs": [
    {
     "name": "stdout",
     "output_type": "stream",
     "text": [
      "x=6\n",
      "x=16\n",
      "x=26\n",
      "x=36\n",
      "x=46\n",
      "sys.maxsize=9223372036854775807\n",
      "i=0\n",
      "i=1\n",
      "i=2\n",
      "i=3\n",
      "i=4\n",
      "i=5\n",
      "i=6\n",
      "i=7\n",
      "i=8\n",
      "i=9\n",
      "i=10\n",
      "i=11\n",
      "i=12\n",
      "i=13\n",
      "i=14\n",
      "i=15\n",
      "i=16\n",
      "i=17\n",
      "i=18\n",
      "i=19\n",
      "i=20\n",
      "i=21\n"
     ]
    }
   ],
   "source": [
    "x=6\n",
    "while x<=100:\n",
    "    print(\"x={}\".format(x))\n",
    "    x+=10 \n",
    "    if x>=50:break \n",
    "        \n",
    "import sys\n",
    "print(\"sys.maxsize={}\".format(sys.maxsize))\n",
    "for i in range(sys.maxsize):\n",
    "    print(\"i={}\".format(i))  \n",
    "    i+=9\n",
    "    if i>=30:break"
   ]
  },
  {
   "cell_type": "code",
   "execution_count": 81,
   "id": "3d25b9f7-f148-4c25-ba52-1f6860a0e8ad",
   "metadata": {},
   "outputs": [
    {
     "name": "stdout",
     "output_type": "stream",
     "text": [
      "x=1\n",
      "x=11\n",
      "x=21\n",
      "x=31\n",
      "x=41\n",
      "sys.maxsize=9223372036854775807\n",
      "i=0\n",
      "i=1\n",
      "i=2\n",
      "i=3\n",
      "i=4\n",
      "i=5\n",
      "i=6\n",
      "i=7\n",
      "i=8\n",
      "i=9\n",
      "i=10\n",
      "i=11\n",
      "i=12\n",
      "i=13\n",
      "i=14\n",
      "i=15\n",
      "i=16\n",
      "i=17\n",
      "i=18\n",
      "i=19\n",
      "i=20\n"
     ]
    }
   ],
   "source": [
    "x=1\n",
    "while x<=100:\n",
    "    print(\"x={}\".format(x))\n",
    "    x+=10 \n",
    "    if x>=50:break    \n",
    "    \n",
    "import sys\n",
    "print(\"sys.maxsize={}\".format(sys.maxsize))\n",
    "for i in range(sys.maxsize):\n",
    "    print(\"i={}\".format(i))  \n",
    "    i+=10\n",
    "    if i>=30:break"
   ]
  },
  {
   "cell_type": "code",
   "execution_count": 85,
   "id": "5ca84605-66de-40ae-b91d-30446c2a9186",
   "metadata": {},
   "outputs": [
    {
     "ename": "FileNotFoundError",
     "evalue": "[Errno 2] No such file or directory: './data/elevation.txt'",
     "output_type": "error",
     "traceback": [
      "\u001b[1;31m---------------------------------------------------------------------------\u001b[0m",
      "\u001b[1;31mFileNotFoundError\u001b[0m                         Traceback (most recent call last)",
      "\u001b[1;32m<ipython-input-85-5ecdba5c20aa>\u001b[0m in \u001b[0;36m<module>\u001b[1;34m\u001b[0m\n\u001b[0;32m      1\u001b[0m \u001b[0mtopography_fp\u001b[0m\u001b[1;33m=\u001b[0m\u001b[1;34m'./data/elevation.txt'\u001b[0m\u001b[1;33m\u001b[0m\u001b[1;33m\u001b[0m\u001b[0m\n\u001b[1;32m----> 2\u001b[1;33m \u001b[0mf\u001b[0m\u001b[1;33m=\u001b[0m\u001b[0mopen\u001b[0m\u001b[1;33m(\u001b[0m\u001b[0mtopography_fp\u001b[0m\u001b[1;33m,\u001b[0m\u001b[1;34m'r'\u001b[0m\u001b[1;33m)\u001b[0m\u001b[1;33m\u001b[0m\u001b[1;33m\u001b[0m\u001b[0m\n\u001b[0m\u001b[0;32m      3\u001b[0m \u001b[0melevation_dat\u001b[0m\u001b[1;33m=\u001b[0m\u001b[1;33m[\u001b[0m\u001b[1;33m]\u001b[0m\u001b[1;33m\u001b[0m\u001b[1;33m\u001b[0m\u001b[0m\n\u001b[0;32m      4\u001b[0m \u001b[1;32mwhile\u001b[0m \u001b[1;32mTrue\u001b[0m\u001b[1;33m:\u001b[0m\u001b[1;33m\u001b[0m\u001b[1;33m\u001b[0m\u001b[0m\n\u001b[0;32m      5\u001b[0m     \u001b[0mline\u001b[0m\u001b[1;33m=\u001b[0m\u001b[0mf\u001b[0m\u001b[1;33m.\u001b[0m\u001b[0mreadline\u001b[0m\u001b[1;33m(\u001b[0m\u001b[1;33m)\u001b[0m\u001b[1;33m\u001b[0m\u001b[1;33m\u001b[0m\u001b[0m\n",
      "\u001b[1;31mFileNotFoundError\u001b[0m: [Errno 2] No such file or directory: './data/elevation.txt'"
     ]
    }
   ],
   "source": [
    "topography_fp='./data/elevation.txt' \n",
    "f=open(topography_fp,'r')#地形\n",
    "elevation_dat=[]\n",
    "while True:\n",
    "    line=f.readline()\n",
    "    elevation_dat.append(line)\n",
    "    if not line:break\n",
    "f.close()\n",
    "print(\"elevation_dat[:10]={}\".format(elevation_dat[:10]))"
   ]
  },
  {
   "cell_type": "code",
   "execution_count": 86,
   "id": "f9148fec-69bb-44b8-af63-71d2865c594c",
   "metadata": {},
   "outputs": [
    {
     "ename": "FileNotFoundError",
     "evalue": "[Errno 2] No such file or directory: './data/elevation.txt'",
     "output_type": "error",
     "traceback": [
      "\u001b[1;31m---------------------------------------------------------------------------\u001b[0m",
      "\u001b[1;31mFileNotFoundError\u001b[0m                         Traceback (most recent call last)",
      "\u001b[1;32m<ipython-input-86-8ebfaf1f6d25>\u001b[0m in \u001b[0;36m<module>\u001b[1;34m\u001b[0m\n\u001b[0;32m      1\u001b[0m \u001b[1;32mimport\u001b[0m \u001b[0mpandas\u001b[0m \u001b[1;32mas\u001b[0m \u001b[0mpd\u001b[0m\u001b[1;33m\u001b[0m\u001b[1;33m\u001b[0m\u001b[0m\n\u001b[1;32m----> 2\u001b[1;33m \u001b[0melevation_df\u001b[0m\u001b[1;33m=\u001b[0m\u001b[0mpd\u001b[0m\u001b[1;33m.\u001b[0m\u001b[0mread_csv\u001b[0m\u001b[1;33m(\u001b[0m\u001b[0mtopography_fp\u001b[0m\u001b[1;33m,\u001b[0m \u001b[0mdelimiter\u001b[0m \u001b[1;33m=\u001b[0m \u001b[1;34m\",\"\u001b[0m\u001b[1;33m,\u001b[0m\u001b[0mheader\u001b[0m\u001b[1;33m=\u001b[0m\u001b[1;32mNone\u001b[0m\u001b[1;33m)\u001b[0m\u001b[1;33m\u001b[0m\u001b[1;33m\u001b[0m\u001b[0m\n\u001b[0m\u001b[0;32m      3\u001b[0m \u001b[0mprint\u001b[0m\u001b[1;33m(\u001b[0m\u001b[0melevation_df\u001b[0m\u001b[1;33m)\u001b[0m\u001b[1;33m\u001b[0m\u001b[1;33m\u001b[0m\u001b[0m\n",
      "\u001b[1;32m~\\anaconda3\\lib\\site-packages\\pandas\\io\\parsers.py\u001b[0m in \u001b[0;36mread_csv\u001b[1;34m(filepath_or_buffer, sep, delimiter, header, names, index_col, usecols, squeeze, prefix, mangle_dupe_cols, dtype, engine, converters, true_values, false_values, skipinitialspace, skiprows, skipfooter, nrows, na_values, keep_default_na, na_filter, verbose, skip_blank_lines, parse_dates, infer_datetime_format, keep_date_col, date_parser, dayfirst, cache_dates, iterator, chunksize, compression, thousands, decimal, lineterminator, quotechar, quoting, doublequote, escapechar, comment, encoding, dialect, error_bad_lines, warn_bad_lines, delim_whitespace, low_memory, memory_map, float_precision, storage_options)\u001b[0m\n\u001b[0;32m    608\u001b[0m     \u001b[0mkwds\u001b[0m\u001b[1;33m.\u001b[0m\u001b[0mupdate\u001b[0m\u001b[1;33m(\u001b[0m\u001b[0mkwds_defaults\u001b[0m\u001b[1;33m)\u001b[0m\u001b[1;33m\u001b[0m\u001b[1;33m\u001b[0m\u001b[0m\n\u001b[0;32m    609\u001b[0m \u001b[1;33m\u001b[0m\u001b[0m\n\u001b[1;32m--> 610\u001b[1;33m     \u001b[1;32mreturn\u001b[0m \u001b[0m_read\u001b[0m\u001b[1;33m(\u001b[0m\u001b[0mfilepath_or_buffer\u001b[0m\u001b[1;33m,\u001b[0m \u001b[0mkwds\u001b[0m\u001b[1;33m)\u001b[0m\u001b[1;33m\u001b[0m\u001b[1;33m\u001b[0m\u001b[0m\n\u001b[0m\u001b[0;32m    611\u001b[0m \u001b[1;33m\u001b[0m\u001b[0m\n\u001b[0;32m    612\u001b[0m \u001b[1;33m\u001b[0m\u001b[0m\n",
      "\u001b[1;32m~\\anaconda3\\lib\\site-packages\\pandas\\io\\parsers.py\u001b[0m in \u001b[0;36m_read\u001b[1;34m(filepath_or_buffer, kwds)\u001b[0m\n\u001b[0;32m    460\u001b[0m \u001b[1;33m\u001b[0m\u001b[0m\n\u001b[0;32m    461\u001b[0m     \u001b[1;31m# Create the parser.\u001b[0m\u001b[1;33m\u001b[0m\u001b[1;33m\u001b[0m\u001b[1;33m\u001b[0m\u001b[0m\n\u001b[1;32m--> 462\u001b[1;33m     \u001b[0mparser\u001b[0m \u001b[1;33m=\u001b[0m \u001b[0mTextFileReader\u001b[0m\u001b[1;33m(\u001b[0m\u001b[0mfilepath_or_buffer\u001b[0m\u001b[1;33m,\u001b[0m \u001b[1;33m**\u001b[0m\u001b[0mkwds\u001b[0m\u001b[1;33m)\u001b[0m\u001b[1;33m\u001b[0m\u001b[1;33m\u001b[0m\u001b[0m\n\u001b[0m\u001b[0;32m    463\u001b[0m \u001b[1;33m\u001b[0m\u001b[0m\n\u001b[0;32m    464\u001b[0m     \u001b[1;32mif\u001b[0m \u001b[0mchunksize\u001b[0m \u001b[1;32mor\u001b[0m \u001b[0miterator\u001b[0m\u001b[1;33m:\u001b[0m\u001b[1;33m\u001b[0m\u001b[1;33m\u001b[0m\u001b[0m\n",
      "\u001b[1;32m~\\anaconda3\\lib\\site-packages\\pandas\\io\\parsers.py\u001b[0m in \u001b[0;36m__init__\u001b[1;34m(self, f, engine, **kwds)\u001b[0m\n\u001b[0;32m    817\u001b[0m             \u001b[0mself\u001b[0m\u001b[1;33m.\u001b[0m\u001b[0moptions\u001b[0m\u001b[1;33m[\u001b[0m\u001b[1;34m\"has_index_names\"\u001b[0m\u001b[1;33m]\u001b[0m \u001b[1;33m=\u001b[0m \u001b[0mkwds\u001b[0m\u001b[1;33m[\u001b[0m\u001b[1;34m\"has_index_names\"\u001b[0m\u001b[1;33m]\u001b[0m\u001b[1;33m\u001b[0m\u001b[1;33m\u001b[0m\u001b[0m\n\u001b[0;32m    818\u001b[0m \u001b[1;33m\u001b[0m\u001b[0m\n\u001b[1;32m--> 819\u001b[1;33m         \u001b[0mself\u001b[0m\u001b[1;33m.\u001b[0m\u001b[0m_engine\u001b[0m \u001b[1;33m=\u001b[0m \u001b[0mself\u001b[0m\u001b[1;33m.\u001b[0m\u001b[0m_make_engine\u001b[0m\u001b[1;33m(\u001b[0m\u001b[0mself\u001b[0m\u001b[1;33m.\u001b[0m\u001b[0mengine\u001b[0m\u001b[1;33m)\u001b[0m\u001b[1;33m\u001b[0m\u001b[1;33m\u001b[0m\u001b[0m\n\u001b[0m\u001b[0;32m    820\u001b[0m \u001b[1;33m\u001b[0m\u001b[0m\n\u001b[0;32m    821\u001b[0m     \u001b[1;32mdef\u001b[0m \u001b[0mclose\u001b[0m\u001b[1;33m(\u001b[0m\u001b[0mself\u001b[0m\u001b[1;33m)\u001b[0m\u001b[1;33m:\u001b[0m\u001b[1;33m\u001b[0m\u001b[1;33m\u001b[0m\u001b[0m\n",
      "\u001b[1;32m~\\anaconda3\\lib\\site-packages\\pandas\\io\\parsers.py\u001b[0m in \u001b[0;36m_make_engine\u001b[1;34m(self, engine)\u001b[0m\n\u001b[0;32m   1048\u001b[0m             )\n\u001b[0;32m   1049\u001b[0m         \u001b[1;31m# error: Too many arguments for \"ParserBase\"\u001b[0m\u001b[1;33m\u001b[0m\u001b[1;33m\u001b[0m\u001b[1;33m\u001b[0m\u001b[0m\n\u001b[1;32m-> 1050\u001b[1;33m         \u001b[1;32mreturn\u001b[0m \u001b[0mmapping\u001b[0m\u001b[1;33m[\u001b[0m\u001b[0mengine\u001b[0m\u001b[1;33m]\u001b[0m\u001b[1;33m(\u001b[0m\u001b[0mself\u001b[0m\u001b[1;33m.\u001b[0m\u001b[0mf\u001b[0m\u001b[1;33m,\u001b[0m \u001b[1;33m**\u001b[0m\u001b[0mself\u001b[0m\u001b[1;33m.\u001b[0m\u001b[0moptions\u001b[0m\u001b[1;33m)\u001b[0m  \u001b[1;31m# type: ignore[call-arg]\u001b[0m\u001b[1;33m\u001b[0m\u001b[1;33m\u001b[0m\u001b[0m\n\u001b[0m\u001b[0;32m   1051\u001b[0m \u001b[1;33m\u001b[0m\u001b[0m\n\u001b[0;32m   1052\u001b[0m     \u001b[1;32mdef\u001b[0m \u001b[0m_failover_to_python\u001b[0m\u001b[1;33m(\u001b[0m\u001b[0mself\u001b[0m\u001b[1;33m)\u001b[0m\u001b[1;33m:\u001b[0m\u001b[1;33m\u001b[0m\u001b[1;33m\u001b[0m\u001b[0m\n",
      "\u001b[1;32m~\\anaconda3\\lib\\site-packages\\pandas\\io\\parsers.py\u001b[0m in \u001b[0;36m__init__\u001b[1;34m(self, src, **kwds)\u001b[0m\n\u001b[0;32m   1865\u001b[0m \u001b[1;33m\u001b[0m\u001b[0m\n\u001b[0;32m   1866\u001b[0m         \u001b[1;31m# open handles\u001b[0m\u001b[1;33m\u001b[0m\u001b[1;33m\u001b[0m\u001b[1;33m\u001b[0m\u001b[0m\n\u001b[1;32m-> 1867\u001b[1;33m         \u001b[0mself\u001b[0m\u001b[1;33m.\u001b[0m\u001b[0m_open_handles\u001b[0m\u001b[1;33m(\u001b[0m\u001b[0msrc\u001b[0m\u001b[1;33m,\u001b[0m \u001b[0mkwds\u001b[0m\u001b[1;33m)\u001b[0m\u001b[1;33m\u001b[0m\u001b[1;33m\u001b[0m\u001b[0m\n\u001b[0m\u001b[0;32m   1868\u001b[0m         \u001b[1;32massert\u001b[0m \u001b[0mself\u001b[0m\u001b[1;33m.\u001b[0m\u001b[0mhandles\u001b[0m \u001b[1;32mis\u001b[0m \u001b[1;32mnot\u001b[0m \u001b[1;32mNone\u001b[0m\u001b[1;33m\u001b[0m\u001b[1;33m\u001b[0m\u001b[0m\n\u001b[0;32m   1869\u001b[0m         \u001b[1;32mfor\u001b[0m \u001b[0mkey\u001b[0m \u001b[1;32min\u001b[0m \u001b[1;33m(\u001b[0m\u001b[1;34m\"storage_options\"\u001b[0m\u001b[1;33m,\u001b[0m \u001b[1;34m\"encoding\"\u001b[0m\u001b[1;33m,\u001b[0m \u001b[1;34m\"memory_map\"\u001b[0m\u001b[1;33m,\u001b[0m \u001b[1;34m\"compression\"\u001b[0m\u001b[1;33m)\u001b[0m\u001b[1;33m:\u001b[0m\u001b[1;33m\u001b[0m\u001b[1;33m\u001b[0m\u001b[0m\n",
      "\u001b[1;32m~\\anaconda3\\lib\\site-packages\\pandas\\io\\parsers.py\u001b[0m in \u001b[0;36m_open_handles\u001b[1;34m(self, src, kwds)\u001b[0m\n\u001b[0;32m   1360\u001b[0m         \u001b[0mLet\u001b[0m \u001b[0mthe\u001b[0m \u001b[0mreaders\u001b[0m \u001b[0mopen\u001b[0m \u001b[0mIOHanldes\u001b[0m \u001b[0mafter\u001b[0m \u001b[0mthey\u001b[0m \u001b[0mare\u001b[0m \u001b[0mdone\u001b[0m \u001b[1;32mwith\u001b[0m \u001b[0mtheir\u001b[0m \u001b[0mpotential\u001b[0m \u001b[0mraises\u001b[0m\u001b[1;33m.\u001b[0m\u001b[1;33m\u001b[0m\u001b[1;33m\u001b[0m\u001b[0m\n\u001b[0;32m   1361\u001b[0m         \"\"\"\n\u001b[1;32m-> 1362\u001b[1;33m         self.handles = get_handle(\n\u001b[0m\u001b[0;32m   1363\u001b[0m             \u001b[0msrc\u001b[0m\u001b[1;33m,\u001b[0m\u001b[1;33m\u001b[0m\u001b[1;33m\u001b[0m\u001b[0m\n\u001b[0;32m   1364\u001b[0m             \u001b[1;34m\"r\"\u001b[0m\u001b[1;33m,\u001b[0m\u001b[1;33m\u001b[0m\u001b[1;33m\u001b[0m\u001b[0m\n",
      "\u001b[1;32m~\\anaconda3\\lib\\site-packages\\pandas\\io\\common.py\u001b[0m in \u001b[0;36mget_handle\u001b[1;34m(path_or_buf, mode, encoding, compression, memory_map, is_text, errors, storage_options)\u001b[0m\n\u001b[0;32m    640\u001b[0m                 \u001b[0merrors\u001b[0m \u001b[1;33m=\u001b[0m \u001b[1;34m\"replace\"\u001b[0m\u001b[1;33m\u001b[0m\u001b[1;33m\u001b[0m\u001b[0m\n\u001b[0;32m    641\u001b[0m             \u001b[1;31m# Encoding\u001b[0m\u001b[1;33m\u001b[0m\u001b[1;33m\u001b[0m\u001b[1;33m\u001b[0m\u001b[0m\n\u001b[1;32m--> 642\u001b[1;33m             handle = open(\n\u001b[0m\u001b[0;32m    643\u001b[0m                 \u001b[0mhandle\u001b[0m\u001b[1;33m,\u001b[0m\u001b[1;33m\u001b[0m\u001b[1;33m\u001b[0m\u001b[0m\n\u001b[0;32m    644\u001b[0m                 \u001b[0mioargs\u001b[0m\u001b[1;33m.\u001b[0m\u001b[0mmode\u001b[0m\u001b[1;33m,\u001b[0m\u001b[1;33m\u001b[0m\u001b[1;33m\u001b[0m\u001b[0m\n",
      "\u001b[1;31mFileNotFoundError\u001b[0m: [Errno 2] No such file or directory: './data/elevation.txt'"
     ]
    }
   ],
   "source": [
    "import pandas as pd\n",
    "elevation_df=pd.read_csv(topography_fp, delimiter = \",\",header=None) \n",
    "print(elevation_df)"
   ]
  },
  {
   "cell_type": "code",
   "execution_count": 89,
   "id": "4c91b7f5-9819-414b-881c-44524b5255fc",
   "metadata": {},
   "outputs": [
    {
     "name": "stdout",
     "output_type": "stream",
     "text": [
      "zip_lst=zip(gfy,ds)-><zip object at 0x0000025CBDFDE940>\n",
      "dict(zip_lst)->{0: 'gfy', 1: 'ds', 2: 'wzq', 3: 'hyj'}\n",
      "0 gfy\n",
      "1 ds\n",
      "2 wzq\n",
      "3 hyj\n",
      "a=(0, 1, 2, 3),b=('gfy', 'ds', 'wzq', 'hyj')\n"
     ]
    }
   ],
   "source": [
    "gfy=[0,1,2,3]\n",
    "ds=['gfy','ds','wzq','hyj']\n",
    "zip_lst=zip(gfy,ds) \n",
    "print(\"zip_lst=zip(gfy,ds)->{}\".format(zip_lst))\n",
    "print(\"dict(zip_lst)->{}\".format(dict(zip_lst)))\n",
    "\n",
    "zip_lst=zip(lst_a,lst_b) \n",
    "for a,b in zip_lst:\n",
    "    print(a,b)\n",
    "    \n",
    "zip_lst=zip(lst_a,lst_b)\n",
    "a,b=zip(*zip_lst)\n",
    "print(\"a={},b={}\".format(a,b))"
   ]
  },
  {
   "cell_type": "code",
   "execution_count": 90,
   "id": "757b54ea-cb9a-4dcd-a0db-2bee2cc24a59",
   "metadata": {},
   "outputs": [
    {
     "name": "stdout",
     "output_type": "stream",
     "text": [
      "dic_4={0: 'point_a', 1: 'point_b', 2: 'point_c', 3: 'point_d'}\n",
      "dict((i,v) for i,v in enumerate(lst_c))->{0: 'point_a', 1: 'point_b', 2: 'point_c', 3: 'point_d'}\n",
      "__________________________________________________\n",
      "0:0,gfy\n",
      "1:1,ds\n",
      "2:2,wzq\n",
      "3:3,hyj\n"
     ]
    }
   ],
   "source": [
    "lst_c=['point_a','point_b','point_c','point_d']\n",
    "dic_4={}\n",
    "for idx,value in enumerate(lst_c):\n",
    "    dic_4[idx]=value\n",
    "print(\"dic_4={}\".format(dic_4))\n",
    "print(\"dict((i,v) for i,v in enumerate(lst_c))->{}\".format(dict((i,v) for i,v in enumerate(lst_c)))) #list comprehension\n",
    "print(\"_\"*50)\n",
    "for i,(a,b) in enumerate(zip(lst_a,lst_b)):\n",
    "    print('%d:%s,%s'%(i,a,b))"
   ]
  },
  {
   "cell_type": "code",
   "execution_count": 93,
   "id": "174f33f7-3154-4620-b4ca-9953f68becde",
   "metadata": {},
   "outputs": [
    {
     "name": "stdout",
     "output_type": "stream",
     "text": [
      "[x*x for x in range(5,40,5) if x%2==0]->[64, 324, 784]\n",
      "[(x,y) for x in range(3)for y in range(2)]->[(0, 0), (0, 1), (1, 0), (1, 1), (2, 0), (2, 1)]\n",
      "[(x,y) for x,y in zip(range(3),range(2))]->[(0, 0), (1, 1)]\n",
      "[[a for a in range(1,10,4)],2,3,[b for b in range(60,100,9)],[[c for c in range(1000,2000,300)],3,9]]->[[1, 4, 7], 2, 3, [60, 67, 74, 81, 88, 95], [[1000, 1120, 1240, 1360, 1480, 1600, 1720, 1840, 1960], 3, 9]]\n",
      "flatten_lst(nested_list)->[1, 4, 7, 2, 3, 60, 67, 74, 81, 88, 95, 1000, 1120, 1240, 1360, 1480, 1600, 1720, 1840, 1960, 3, 9]\n"
     ]
    }
   ],
   "source": [
    "print(\"[x*x for x in range(5,40,5) if x%2==0]->{}\".format([x*x for x in range(3,37,5) if x%2==0]))\n",
    "print(\"[(x,y) for x in range(3)for y in range(2)]->{}\".format([(x,y) for x in range(3)for y in range(2)]))\n",
    "print(\"[(x,y) for x,y in zip(range(3),range(2))]->{}\".format([(x,y) for x,y in zip(range(3),range(2))]))\n",
    "nested_list=[[a for a in range(1,10,3)],2,3,[b for b in range(60,100,7)],[[c for c in range(1000,2000,120)],3,9]]\n",
    "print(\"[[a for a in range(1,10,4)],2,3,[b for b in range(60,100,9)],[[c for c in range(1000,2000,300)],3,9]]->{}\".format(nested_list)) \n",
    "\n",
    "flatten_lst=lambda lst: [m for n_lst in lst for m in flatten_lst(n_lst)] if type(lst) is list else [lst]\n",
    "print(\"flatten_lst(nested_list)->{}\".format(flatten_lst(nested_list)))"
   ]
  },
  {
   "cell_type": "code",
   "execution_count": 94,
   "id": "9b972f2c-47d2-4e96-8549-0ce08e200516",
   "metadata": {},
   "outputs": [
    {
     "ename": "SyntaxError",
     "evalue": "invalid syntax (<ipython-input-94-41908f57fca4>, line 1)",
     "output_type": "error",
     "traceback": [
      "\u001b[1;36m  File \u001b[1;32m\"<ipython-input-94-41908f57fca4>\"\u001b[1;36m, line \u001b[1;32m1\u001b[0m\n\u001b[1;33m    3.4.2 条件语句\u001b[0m\n\u001b[1;37m       ^\u001b[0m\n\u001b[1;31mSyntaxError\u001b[0m\u001b[1;31m:\u001b[0m invalid syntax\n"
     ]
    }
   ],
   "source": [
    "3.4.2 条件语句"
   ]
  },
  {
   "cell_type": "code",
   "execution_count": 96,
   "id": "d056b57a-2d4c-4cae-9ab8-48f41cbfeb06",
   "metadata": {},
   "outputs": [
    {
     "name": "stdout",
     "output_type": "stream",
     "text": [
      "Positive but smaller than 10\n"
     ]
    }
   ],
   "source": [
    "x=8\n",
    "if x<0:\n",
    "    print('It is negative.')\n",
    "elif x==0:\n",
    "    print('Equal to zero.')\n",
    "elif 0<x<10:\n",
    "    print('Positive but smaller than 10')\n",
    "else:\n",
    "    print('Positive and larger than or equal to 10.')"
   ]
  },
  {
   "cell_type": "code",
   "execution_count": 99,
   "id": "a9ee7bd8-2ca7-46b3-a3d2-9363fce45fa6",
   "metadata": {},
   "outputs": [
    {
     "name": "stdout",
     "output_type": "stream",
     "text": [
      "x==y->True\n",
      "x is y->True\n",
      "x==z->False\n",
      "x is z->False\n",
      "x is not y->False\n",
      "x is not z->True\n",
      "id_x:2597347859328;id_y:2597347859328;id_z:2597347869376\n",
      "x=[3, 6],y=[3, 6],z=[3, 6, 9] after del x[2]\n"
     ]
    }
   ],
   "source": [
    "x=y=[3,6,10]\n",
    "z=[3,6,9]\n",
    "print(\"x==y->{}\".format(x==y))\n",
    "print(\"x is y->{}\".format(x is y))\n",
    "print(\"x==z->{}\".format(x==z))\n",
    "print(\"x is z->{}\".format(x is z))\n",
    "print(\"x is not y->{}\".format(x is not y))\n",
    "print(\"x is not z->{}\".format(x is not z))\n",
    "print(\"id_x:{};id_y:{};id_z:{}\".format(id(x),id(y),id(z))) #Memory Location\n",
    "\n",
    "del x[2]\n",
    "print(\"x={},y={},z={} after del x[2]\".format(x,y,z))"
   ]
  },
  {
   "cell_type": "markdown",
   "id": "48e811ee-5691-4333-8d22-ed79473169a0",
   "metadata": {},
   "source": [
    " x=[3,6,9]\n",
    "print(\"5 in x->{}\".format(3 in x))\n",
    "print(\"0 in x->{}\".format(0 in x))\n",
    "print(\"9 not in x->{}\".format(3 not in x))\n",
    "print(\"0 not in x->{}\".format(0 not in x))"
   ]
  },
  {
   "cell_type": "code",
   "execution_count": 101,
   "id": "da664fc5-6283-4589-8ffd-bee1929262d8",
   "metadata": {},
   "outputs": [
    {
     "name": "stdout",
     "output_type": "stream",
     "text": [
      "8 in x->False\n",
      "0 in x->False\n",
      "3 not in x->False\n",
      "0 not in x->True\n"
     ]
    }
   ],
   "source": [
    "x=[3,6,9]\n",
    "print(\"8 in x->{}\".format(8 in x))\n",
    "print(\"0 in x->{}\".format(0 in x))\n",
    "print(\"3 not in x->{}\".format(3 not in x))\n",
    "print(\"0 not in x->{}\".format(0 not in x))"
   ]
  },
  {
   "cell_type": "code",
   "execution_count": 103,
   "id": "80907c40-db4a-4f5e-8ee5-c46f929b79b1",
   "metadata": {},
   "outputs": [
    {
     "name": "stdout",
     "output_type": "stream",
     "text": [
      "a<c<b nonononono!!!\n"
     ]
    }
   ],
   "source": [
    "a,b,c=10,10,15\n",
    "if c>a and c<b:\n",
    "    print('a<c<b')\n",
    "else: print('a<c<b nonononono!!!')"
   ]
  },
  {
   "cell_type": "code",
   "execution_count": 104,
   "id": "5a74eb74-9fb7-46cd-8d83-d6db99b5096a",
   "metadata": {},
   "outputs": [
    {
     "ename": "SyntaxError",
     "evalue": "invalid syntax (<ipython-input-104-ef0229d1c7e1>, line 1)",
     "output_type": "error",
     "traceback": [
      "\u001b[1;36m  File \u001b[1;32m\"<ipython-input-104-ef0229d1c7e1>\"\u001b[1;36m, line \u001b[1;32m1\u001b[0m\n\u001b[1;33m    3.5 函数 function\u001b[0m\n\u001b[1;37m        ^\u001b[0m\n\u001b[1;31mSyntaxError\u001b[0m\u001b[1;31m:\u001b[0m invalid syntax\n"
     ]
    }
   ],
   "source": [
    "3.5 函数 function"
   ]
  },
  {
   "cell_type": "code",
   "execution_count": 108,
   "id": "fa310787-4728-4e33-ab78-4ff6390ff25c",
   "metadata": {},
   "outputs": [],
   "source": [
    "def simple_func(x,y):\n",
    "    z=pow(x,8)+y\n",
    "    return z"
   ]
  },
  {
   "cell_type": "code",
   "execution_count": 109,
   "id": "8483751a-d1ca-4e09-9401-56dfe728db1b",
   "metadata": {},
   "outputs": [
    {
     "name": "stdout",
     "output_type": "stream",
     "text": [
      "simple_func(6,5)->1679621\n",
      "simple_func(7,9)->5764810\n",
      "simple_func(y=7,x=8)->16777223\n"
     ]
    }
   ],
   "source": [
    "print(\"simple_func(6,5)->{}\".format(simple_func(6,5)))\n",
    "print(\"simple_func(7,9)->{}\".format(simple_func(7,9)))\n",
    "print(\"simple_func(y=7,x=8)->{}\".format(simple_func(y=7,x=8)))"
   ]
  },
  {
   "cell_type": "code",
   "execution_count": 110,
   "id": "e99ef542-5a80-4a50-8ef7-993e855ff83a",
   "metadata": {},
   "outputs": [
    {
     "name": "stdout",
     "output_type": "stream",
     "text": [
      "fibonacci(6,9)->[5, 8, 13, 21, 34, 55, 89, 144, 233]\n",
      "fibonacci(7,9)->[8, 13, 21, 34, 55, 89, 144, 233, 377]\n"
     ]
    }
   ],
   "source": [
    "def fibonacci(s,count): #斐波那契\n",
    "    fib_lst=[0,1]\n",
    "    fib_part=[]\n",
    "    if s==0 or s==1:\n",
    "        fib_part[:]=fib_lst\n",
    "        for i in range(count-2):\n",
    "            fib_part.append(fib_part[-1]+fib_part[-2])\n",
    "    else:\n",
    "        while True:\n",
    "            fib_lst[:]=[fib_lst[1],fib_lst[0]+fib_lst[1]]\n",
    "            #print(fib_lst)\n",
    "            if fib_lst[1]-s>=0:break\n",
    "        fib_part[:]=fib_lst\n",
    "        if abs(fib_lst[0]-s)>=abs(fib_lst[1]-s):\n",
    "            for i in range(count-1):\n",
    "                fib_part.append(fib_part[-1]+fib_part[-2])\n",
    "            fib_part.pop(0)\n",
    "        else:\n",
    "            for i in range(count-2):\n",
    "                fib_part.append(fib_part[-1]+fib_part[-2])\n",
    "    return fib_part\n",
    "\n",
    "print(\"fibonacci(6,9)->{}\".format(fibonacci(6,9)))\n",
    "print(\"fibonacci(7,9)->{}\".format(fibonacci(7,9)))"
   ]
  },
  {
   "cell_type": "code",
   "execution_count": 111,
   "id": "794ab06f-3611-4964-bae3-d58440e8bad6",
   "metadata": {},
   "outputs": [
    {
     "ename": "SyntaxError",
     "evalue": "invalid syntax (<ipython-input-111-6d0c12cbc680>, line 1)",
     "output_type": "error",
     "traceback": [
      "\u001b[1;36m  File \u001b[1;32m\"<ipython-input-111-6d0c12cbc680>\"\u001b[1;36m, line \u001b[1;32m1\u001b[0m\n\u001b[1;33m    3.5.2 递归\u001b[0m\n\u001b[1;37m       ^\u001b[0m\n\u001b[1;31mSyntaxError\u001b[0m\u001b[1;31m:\u001b[0m invalid syntax\n"
     ]
    }
   ],
   "source": [
    "3.5.2 递归"
   ]
  },
  {
   "cell_type": "code",
   "execution_count": 1,
   "id": "8333abe4-efdf-421d-a8d5-738213c64bad",
   "metadata": {},
   "outputs": [
    {
     "name": "stdout",
     "output_type": "stream",
     "text": [
      "3024\n"
     ]
    }
   ],
   "source": [
    "def factorial(n):#阶乘\n",
    "    if n==6:\n",
    "        return 6\n",
    "    else:\n",
    "        return n*factorial(n-1)\n",
    "print(factorial(9))"
   ]
  },
  {
   "cell_type": "code",
   "execution_count": 113,
   "id": "ac7e7e26-c4eb-4a28-a3b3-076a6374957d",
   "metadata": {},
   "outputs": [
    {
     "ename": "SyntaxError",
     "evalue": "invalid syntax (<ipython-input-113-10aa61349804>, line 1)",
     "output_type": "error",
     "traceback": [
      "\u001b[1;36m  File \u001b[1;32m\"<ipython-input-113-10aa61349804>\"\u001b[1;36m, line \u001b[1;32m1\u001b[0m\n\u001b[1;33m    3.6 类 class\u001b[0m\n\u001b[1;37m        ^\u001b[0m\n\u001b[1;31mSyntaxError\u001b[0m\u001b[1;31m:\u001b[0m invalid syntax\n"
     ]
    }
   ],
   "source": [
    "3.6 类 class"
   ]
  },
  {
   "cell_type": "code",
   "execution_count": 114,
   "id": "70927e95-2be9-4074-af1d-de098aafc8a1",
   "metadata": {},
   "outputs": [],
   "source": [
    "class Bird:\n",
    "    fly='Whirring'\n",
    "    def __init__(self):\n",
    "        self.hungry=True\n",
    "    def eat(self):\n",
    "        if self.hungry:\n",
    "            print('yes')\n",
    "            self.hungry=False\n",
    "        else:\n",
    "            print('Nonono!')\n",
    "\n",
    "class Apodidae(Bird): \n",
    "    def __init__(self):\n",
    "        super(Apodidae,self).__init__()\n",
    "        self.sound='Ssssss!'\n",
    "    def sing(self):\n",
    "        print(self.sound)"
   ]
  },
  {
   "cell_type": "code",
   "execution_count": 115,
   "id": "7a667650-14d9-49ab-884f-4fd4467312f9",
   "metadata": {},
   "outputs": [
    {
     "name": "stdout",
     "output_type": "stream",
     "text": [
      "swift.fly->Whirring\n",
      "swift.eat()->\n",
      "yes\n",
      "swift.eat()->\n",
      "Nonono!\n",
      "swift.sing()->\n",
      "Ssssss!\n"
     ]
    }
   ],
   "source": [
    "swift=Apodidae()\n",
    "print(\"swift.fly->{}\".format(swift.fly))\n",
    "print(\"swift.eat()->\")\n",
    "swift.eat()\n",
    "print(\"swift.eat()->\")\n",
    "swift.eat()\n",
    "print(\"swift.sing()->\")\n",
    "swift.sing()"
   ]
  },
  {
   "cell_type": "code",
   "execution_count": 116,
   "id": "9458d993-d592-4e5b-8340-8affb23bf359",
   "metadata": {},
   "outputs": [
    {
     "name": "stdout",
     "output_type": "stream",
     "text": [
      "blackswift.sing()->\n",
      "Ssssss!\n",
      "scarceswift.sing()->\n",
      "Ssssss!\n"
     ]
    }
   ],
   "source": [
    "blackswift=Apodidae()\n",
    "scarceswift=Apodidae()\n",
    "print(\"blackswift.sing()->\")\n",
    "blackswift.sing()\n",
    "print(\"scarceswift.sing()->\")\n",
    "scarceswift.sing()"
   ]
  },
  {
   "cell_type": "code",
   "execution_count": 117,
   "id": "c2272264-e833-45c2-b1dc-87fff44e5bf4",
   "metadata": {},
   "outputs": [
    {
     "name": "stdout",
     "output_type": "stream",
     "text": [
      "blackswift.fly->Whirring\n",
      "blackswift.fly after redefining the blackswif's attribute->humming\n",
      "scarceswift.fly->Whirring\n"
     ]
    }
   ],
   "source": [
    "print(\"blackswift.fly->{}\".format(blackswift.fly))\n",
    "blackswift.fly='humming' \n",
    "print(\"blackswift.fly after redefining the blackswif's attribute->{}\".format(blackswift.fly))\n",
    "print(\"scarceswift.fly->{}\".format(scarceswift.fly))"
   ]
  },
  {
   "cell_type": "code",
   "execution_count": 118,
   "id": "6b5d622a-eb9d-4836-b341-bbedcf54a504",
   "metadata": {},
   "outputs": [
    {
     "ename": "SyntaxError",
     "evalue": "invalid syntax (<ipython-input-118-293301b95b5d>, line 1)",
     "output_type": "error",
     "traceback": [
      "\u001b[1;36m  File \u001b[1;32m\"<ipython-input-118-293301b95b5d>\"\u001b[1;36m, line \u001b[1;32m1\u001b[0m\n\u001b[1;33m    3.6.2 迭代+迭代器\u001b[0m\n\u001b[1;37m       ^\u001b[0m\n\u001b[1;31mSyntaxError\u001b[0m\u001b[1;31m:\u001b[0m invalid syntax\n"
     ]
    }
   ],
   "source": [
    "3.6.2 迭代+迭代器"
   ]
  },
  {
   "cell_type": "code",
   "execution_count": 9,
   "id": "ddc5e24a-bc3b-4ac6-bbeb-40222b60a287",
   "metadata": {},
   "outputs": [],
   "source": [
    "class Fibs():\n",
    "    def __init__(self):\n",
    "        self.a=1\n",
    "        self.b=0\n",
    "    def next(self): \n",
    "        self.a,self.b=self.b,self.a+self.b\n",
    "        return self.a\n",
    "    def __iter__(self): \n",
    "        return self"
   ]
  },
  {
   "cell_type": "code",
   "execution_count": 13,
   "id": "c70b8fd9-a8e1-463b-977b-550e5b087d02",
   "metadata": {},
   "outputs": [
    {
     "name": "stdout",
     "output_type": "stream",
     "text": [
      "fa=[0, 1, 1, 2, 3, 5, 8, 13, 21, 34, 55, 89]\n",
      "fb=[144, 233, 377, 610, 987, 1597, 2584, 4181, 6765, 10946, 17711, 28657, 46368, 75025, 121393]\n"
     ]
    }
   ],
   "source": [
    "f=Fibs()\n",
    "fa=[]\n",
    "fb=[]\n",
    "for i in range(12):\n",
    "    fa.append(f.next())\n",
    "print(\"fa={}\".format(fa))\n",
    "for i in range(15):\n",
    "    fb.append(f.next())\n",
    "print(\"fb={}\".format(fb))"
   ]
  },
  {
   "cell_type": "code",
   "execution_count": 17,
   "id": "f9a70a3a-fff9-4a69-8af4-9d870f43f58e",
   "metadata": {},
   "outputs": [
    {
     "name": "stdout",
     "output_type": "stream",
     "text": [
      "lst_d=[2, 5, 8, 11, 14, 17, 20, 23]\n",
      "__________________________________________________\n"
     ]
    },
    {
     "ename": "TypeError",
     "evalue": "'type' object is not iterable",
     "output_type": "error",
     "traceback": [
      "\u001b[1;31m---------------------------------------------------------------------------\u001b[0m",
      "\u001b[1;31mTypeError\u001b[0m                                 Traceback (most recent call last)",
      "\u001b[1;32m<ipython-input-17-709416f8a236>\u001b[0m in \u001b[0;36m<module>\u001b[1;34m\u001b[0m\n\u001b[0;32m      2\u001b[0m \u001b[0mprint\u001b[0m\u001b[1;33m(\u001b[0m\u001b[1;34m\"lst_d={}\"\u001b[0m\u001b[1;33m.\u001b[0m\u001b[0mformat\u001b[0m\u001b[1;33m(\u001b[0m\u001b[0mlst_d\u001b[0m\u001b[1;33m)\u001b[0m\u001b[1;33m)\u001b[0m\u001b[1;33m\u001b[0m\u001b[1;33m\u001b[0m\u001b[0m\n\u001b[0;32m      3\u001b[0m \u001b[0mprint\u001b[0m\u001b[1;33m(\u001b[0m\u001b[1;34m\"_\"\u001b[0m\u001b[1;33m*\u001b[0m\u001b[1;36m50\u001b[0m\u001b[1;33m)\u001b[0m\u001b[1;33m\u001b[0m\u001b[1;33m\u001b[0m\u001b[0m\n\u001b[1;32m----> 4\u001b[1;33m \u001b[0mlst_iter\u001b[0m\u001b[1;33m=\u001b[0m\u001b[0miter\u001b[0m\u001b[1;33m(\u001b[0m\u001b[0mlist\u001b[0m\u001b[1;33m)\u001b[0m\u001b[1;33m\u001b[0m\u001b[1;33m\u001b[0m\u001b[0m\n\u001b[0m\u001b[0;32m      5\u001b[0m \u001b[0mprint\u001b[0m\u001b[1;33m(\u001b[0m\u001b[1;34m\"next(lst_iter)->{}\"\u001b[0m\u001b[1;33m.\u001b[0m\u001b[0mformat\u001b[0m\u001b[1;33m(\u001b[0m\u001b[0mnext\u001b[0m\u001b[1;33m(\u001b[0m\u001b[0mlst_iter\u001b[0m\u001b[1;33m)\u001b[0m\u001b[1;33m)\u001b[0m\u001b[1;33m)\u001b[0m\u001b[1;33m\u001b[0m\u001b[1;33m\u001b[0m\u001b[0m\n\u001b[0;32m      6\u001b[0m \u001b[0mprint\u001b[0m\u001b[1;33m(\u001b[0m\u001b[1;34m\"next(lst_iter)->{}\"\u001b[0m\u001b[1;33m.\u001b[0m\u001b[0mformat\u001b[0m\u001b[1;33m(\u001b[0m\u001b[0mnext\u001b[0m\u001b[1;33m(\u001b[0m\u001b[0mlst_iter\u001b[0m\u001b[1;33m)\u001b[0m\u001b[1;33m)\u001b[0m\u001b[1;33m)\u001b[0m\u001b[1;33m\u001b[0m\u001b[1;33m\u001b[0m\u001b[0m\n",
      "\u001b[1;31mTypeError\u001b[0m: 'type' object is not iterable"
     ]
    }
   ],
   "source": [
    "lst_d=list(range(2,26,3))\n",
    "print(\"lst_d={}\".format(lst_d))\n",
    "print(\"_\"*50)\n",
    "lst_iter=iter(list)\n",
    "print(\"next(lst_iter)->{}\".format(next(lst_iter)))\n",
    "print(\"next(lst_iter)->{}\".format(next(lst_iter)))\n",
    "for i in lst_iter:\n",
    "    print(i)\n",
    "next(lst_iter)"
   ]
  },
  {
   "cell_type": "code",
   "execution_count": 4,
   "id": "5ba4998b-7f39-49b0-ba0c-f48e4547c1bc",
   "metadata": {},
   "outputs": [
    {
     "ename": "SyntaxError",
     "evalue": "invalid syntax (<ipython-input-4-bc44903b77b1>, line 1)",
     "output_type": "error",
     "traceback": [
      "\u001b[1;36m  File \u001b[1;32m\"<ipython-input-4-bc44903b77b1>\"\u001b[1;36m, line \u001b[1;32m1\u001b[0m\n\u001b[1;33m    3.6.3 生成器(generator)\u001b[0m\n\u001b[1;37m       ^\u001b[0m\n\u001b[1;31mSyntaxError\u001b[0m\u001b[1;31m:\u001b[0m invalid syntax\n"
     ]
    }
   ],
   "source": [
    "3.6.3 生成器(generator)"
   ]
  },
  {
   "cell_type": "code",
   "execution_count": 128,
   "id": "43a7739d-b868-4831-aa0f-d09da573c7e5",
   "metadata": {},
   "outputs": [
    {
     "name": "stdout",
     "output_type": "stream",
     "text": [
      "lst_e=[[3, 8, 13, 18], [3, 7, 67, [0, 1, 2, 3, 4, 5, 6, 7, 8], 89]]\n",
      "__________________________________________________\n",
      "flatten_lst=[3, 8, 13, 18, 3, 7, 67, 0, 1, 2, 3, 4, 5, 6, 7, 8, 89]\n"
     ]
    }
   ],
   "source": [
    "lst_e=[list(range(3,20,5)),[3,7,67,list(range(9)),89]]\n",
    "print(\"lst_e={}\".format(lst_e))\n",
    "print(\"_\"*50)\n",
    "flatten_lst=[]\n",
    "for v_1 in lst_e:\n",
    "    try:\n",
    "        for v_2 in v_1:\n",
    "            try:\n",
    "                for v_3 in v_2:\n",
    "                    flatten_lst.append(v_3)\n",
    "            except TypeError:\n",
    "                flatten_lst.append(v_2)\n",
    "    except TypeError:\n",
    "        flatten_lst.append(v_1)\n",
    "print(\"flatten_lst={}\".format(flatten_lst))"
   ]
  },
  {
   "cell_type": "code",
   "execution_count": 129,
   "id": "eb7bec5c-71e6-4511-bde2-4a282992fb6c",
   "metadata": {},
   "outputs": [],
   "source": [
    "def flatten(lst): \n",
    "    try: \n",
    "        for n_lst in lst:           \n",
    "            for m in flatten(n_lst):           \n",
    "                yield m \n",
    "    except TypeError:  \n",
    "        yield lst        "
   ]
  },
  {
   "cell_type": "code",
   "execution_count": 130,
   "id": "55d32f04-a782-4329-a25b-4687c4f42626",
   "metadata": {},
   "outputs": [
    {
     "name": "stdout",
     "output_type": "stream",
     "text": [
      "list(flatten(lst_e))->[3, 8, 13, 18, 3, 7, 67, 0, 1, 2, 3, 4, 5, 6, 7, 8, 89]\n"
     ]
    }
   ],
   "source": [
    "print(\"list(flatten(lst_e))->{}\".format(list(flatten(lst_e))))"
   ]
  },
  {
   "cell_type": "code",
   "execution_count": 25,
   "id": "72d1b856-7cb2-4001-a19c-b84a7648e767",
   "metadata": {},
   "outputs": [
    {
     "ename": "SyntaxError",
     "evalue": "invalid syntax (<ipython-input-25-be63816fa197>, line 1)",
     "output_type": "error",
     "traceback": [
      "\u001b[1;36m  File \u001b[1;32m\"<ipython-input-25-be63816fa197>\"\u001b[1;36m, line \u001b[1;32m1\u001b[0m\n\u001b[1;33m    list(flatten(lst_e))->[3, 6, 9, 12, 15, 18, 3, 7, 67, 0, 1, 2, 3, 4, 89]\u001b[0m\n\u001b[1;37m                        ^\u001b[0m\n\u001b[1;31mSyntaxError\u001b[0m\u001b[1;31m:\u001b[0m invalid syntax\n"
     ]
    }
   ],
   "source": [
    "list(flatten(lst_e))->[3, 6, 9, 12, 15, 18, 3, 7, 67, 0, 1, 2, 3, 4, 89]\n",
    "#Copy to clipboardErrorCopied\n",
    "flatten_lst=lambda lst:[m for n_lst in lst for m in flatten_lst(n_lst)] if type(lst) is list else [lst] "
   ]
  },
  {
   "cell_type": "code",
   "execution_count": 24,
   "id": "fda28540-6f16-47b5-98d7-596b76463290",
   "metadata": {},
   "outputs": [
    {
     "name": "stdout",
     "output_type": "stream",
     "text": [
      "next(n)->num#0\n",
      "next(n)->num#1\n",
      "next(n)->num#2\n",
      "[next(n) for i in range(5)]->['num#3', 'num#4', 'num#5', 'num#6', 'num#7']\n"
     ]
    }
   ],
   "source": [
    "def infinite():\n",
    "    n=0\n",
    "    while True:\n",
    "        yield 'num#'+str(n)\n",
    "        n+=1\n",
    "#Copy to clipboardErrorCopied\n",
    "n=infinite()\n",
    "print(\"next(n)->{}\".format(next(n)))\n",
    "print(\"next(n)->{}\".format(next(n)))\n",
    "print(\"next(n)->{}\".format(next(n)))\n",
    "print(\"[next(n) for i in range(5)]->{}\".format([next(n) for i in range(5)]))"
   ]
  },
  {
   "cell_type": "code",
   "execution_count": 133,
   "id": "d87d5ffd-329a-4478-9cc3-a228a892a0ee",
   "metadata": {},
   "outputs": [
    {
     "name": "stdout",
     "output_type": "stream",
     "text": [
      "[[(2*pi*(2*(u/(n-1))-1),2*pi*(2*(v/(n-1))-1)) for u in range(n)] for v in range(n)]->[[(-6.283185307179586, -6.283185307179586), (0.0, -6.283185307179586), (6.283185307179586, -6.283185307179586)], [(-6.283185307179586, 0.0), (0.0, 0.0), (6.283185307179586, 0.0)], [(-6.283185307179586, 6.283185307179586), (0.0, 6.283185307179586), (6.283185307179586, 6.283185307179586)]]\n",
      "__________________________________________________\n",
      "([(2*pi*(2*(u/(n-1))-1),2*pi*(2*(v/(n-1))-1)) for u in range(n)] for v in range(n))-><generator object <genexpr> at 0x0000025CBDFFBDD0>\n",
      "next(gen)->[(-6.283185307179586, -6.283185307179586), (0.0, -6.283185307179586), (6.283185307179586, -6.283185307179586)]\n",
      "next(gen)->[(-6.283185307179586, 0.0), (0.0, 0.0), (6.283185307179586, 0.0)]\n"
     ]
    }
   ],
   "source": [
    "n=3\n",
    "print(\"[[(2*pi*(2*(u/(n-1))-1),2*pi*(2*(v/(n-1))-1)) for u in range(n)] for v in range(n)]->{}\".format([[(2*pi*(2*(u/(n-1))-1),2*pi*(2*(v/(n-1))-1)) for u in range(n)] for v in range(n)]))\n",
    "print(\"_\"*50)\n",
    "print(\"([(2*pi*(2*(u/(n-1))-1),2*pi*(2*(v/(n-1))-1)) for u in range(n)] for v in range(n))->{}\".format(([(2*pi*(2*(u/(n-1))-1),2*pi*(2*(v/(n-1))-1)) for u in range(n)] for v in range(n))))\n",
    "gen=([(2*pi*(2*(u/(n-1))-1),2*pi*(2*(v/(n-1))-1)) for u in range(n)] for v in range(n))\n",
    "print(\"next(gen)->{}\".format(next(gen)))\n",
    "print(\"next(gen)->{}\".format(next(gen)))"
   ]
  },
  {
   "cell_type": "code",
   "execution_count": 134,
   "id": "bec747cf-c98a-4e78-ab1d-77278f792ee8",
   "metadata": {},
   "outputs": [
    {
     "name": "stdout",
     "output_type": "stream",
     "text": [
      "f_convert_a('3.1415926')->3.1415\n",
      "f_convert_a('string')->string\n",
      "f_convert_a(3,6,9)->(3, 6, 9)\n"
     ]
    }
   ],
   "source": [
    "def f_convert_a(x):#转换\n",
    "    try:\n",
    "        return float(x)\n",
    "    except:\n",
    "        return x\n",
    "print(\"f_convert_a('3.1415926')->{}\".format(f_convert_a('3.1415')))    \n",
    "print(\"f_convert_a('string')->{}\".format(f_convert_a('string')))  \n",
    "print(\"f_convert_a(3,6,9)->{}\".format(f_convert_a((3,6,9))))  "
   ]
  },
  {
   "cell_type": "code",
   "execution_count": 23,
   "id": "43a3f09e-908d-44c9-9c60-8ed160f6f03d",
   "metadata": {},
   "outputs": [
    {
     "name": "stdout",
     "output_type": "stream",
     "text": [
      "f_convert_b('3.1415')->3.1415\n",
      "f_convert_b('string')->string\n",
      "f_convert_b(666)->666.0\n"
     ]
    }
   ],
   "source": [
    "def f_convert_b(x):\n",
    "    try:\n",
    "        return float(x)\n",
    "    except ValueError:\n",
    "        return x\n",
    "print(\"f_convert_b('3.1415')->{}\".format(f_convert_b('3.1415')))    \n",
    "print(\"f_convert_b('string')->{}\".format(f_convert_b('string')))  \n",
    "print(\"f_convert_b(666)->{}\".format(f_convert_b((666))))  "
   ]
  },
  {
   "cell_type": "code",
   "execution_count": 136,
   "id": "5248a143-d3be-4d5b-9dbc-8110d2657548",
   "metadata": {},
   "outputs": [
    {
     "name": "stdout",
     "output_type": "stream",
     "text": [
      "f_convert_c('3.1415')->3.141526535\n",
      "f_convert_c('string')->string\n",
      "(3, 6, 7) TypeError\n",
      "f_convert_c(3,6,7)->None\n"
     ]
    }
   ],
   "source": [
    "def f_convert_c(x):\n",
    "    try:\n",
    "        return float(x)\n",
    "    except ValueError:\n",
    "        return x\n",
    "    except TypeError:\n",
    "        print(x,'TypeError')\n",
    "print(\"f_convert_c('3.1415')->{}\".format(f_convert_c('3.141526535')))    \n",
    "print(\"f_convert_c('string')->{}\".format(f_convert_c('string')))  \n",
    "print(\"f_convert_c(3,6,7)->{}\".format(f_convert_c((3,6,7))))         "
   ]
  },
  {
   "cell_type": "code",
   "execution_count": 137,
   "id": "ee59074c-bc49-4a56-afcf-386c9c2f44f4",
   "metadata": {},
   "outputs": [
    {
     "name": "stdout",
     "output_type": "stream",
     "text": [
      "Unable to open ./data/tryException.txt :[Errno 2] No such file or directory: './data/tryException.txt'\n",
      "\n",
      "tryException_content->None\n",
      "Unable to open ./data/tryException_.txt :[Errno 2] No such file or directory: './data/tryException_.txt'\n",
      "\n"
     ]
    }
   ],
   "source": [
    "def f_open_a(fp):\n",
    "    try:\n",
    "        f=open(fp,'r')\n",
    "    except IOError as e:\n",
    "        print('Unable to open',fp,':%s\\n' %e)\n",
    "    else:\n",
    "        data=f.read()\n",
    "        f.close\n",
    "        return data\n",
    "tryException_content=f_open_a(\"./data/tryException.txt\")   \n",
    "print(\"tryException_content->{}\".format(tryException_content))\n",
    "f_open_a(\"./data/tryException_.txt\")"
   ]
  },
  {
   "cell_type": "code",
   "execution_count": 138,
   "id": "9139e307-3426-4440-ae85-f4aac6b60464",
   "metadata": {},
   "outputs": [
    {
     "name": "stdout",
     "output_type": "stream",
     "text": [
      "Unable to open ./data/tryException.txt :[Errno 2] No such file or directory: './data/tryException.txt'\n",
      "\n",
      "done!\n"
     ]
    }
   ],
   "source": [
    "def f_open_b(fp):\n",
    "    try:\n",
    "        f=open(fp,'r')\n",
    "    except IOError as e:\n",
    "        print('Unable to open',fp,':%s\\n' %e)\n",
    "    else:\n",
    "        data=f.read()\n",
    "        f.close()\n",
    "        return data\n",
    "    finally:\n",
    "        print('done!')\n",
    "f_open_b(\"./data/tryException.txt\")        "
   ]
  },
  {
   "cell_type": "code",
   "execution_count": null,
   "id": "43614be8-7226-41f3-a093-f8878c794bc0",
   "metadata": {},
   "outputs": [],
   "source": []
  }
 ],
 "metadata": {
  "kernelspec": {
   "display_name": "Python 3",
   "language": "python",
   "name": "python3"
  },
  "language_info": {
   "codemirror_mode": {
    "name": "ipython",
    "version": 3
   },
   "file_extension": ".py",
   "mimetype": "text/x-python",
   "name": "python",
   "nbconvert_exporter": "python",
   "pygments_lexer": "ipython3",
   "version": "3.8.8"
  }
 },
 "nbformat": 4,
 "nbformat_minor": 5
}
